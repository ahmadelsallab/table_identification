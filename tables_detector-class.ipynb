{
 "cells": [
  {
   "cell_type": "code",
   "execution_count": 1,
   "metadata": {},
   "outputs": [],
   "source": [
    "import cv2\n",
    "import matplotlib.pyplot as plt\n",
    "import matplotlib.patches as patches\n",
    "import numpy as np\n",
    "from scipy.ndimage.interpolation import shift\n",
    "import os\n",
    "import seaborn as sns\n",
    "import json\n",
    "import re\n",
    "\n",
    "from pdftabextract.common import read_xml, parse_pages\n",
    "from pdftabextract.clustering import zip_clusters_and_values\n",
    "from pdftabextract.textboxes import border_positions_from_texts, split_texts_by_positions, join_texts\n",
    "from pdftabextract.common import all_a_in_b, DIRECTION_VERTICAL\n",
    "from pdftabextract.clustering import find_clusters_1d_break_dist\n",
    "from pdftabextract.clustering import calc_cluster_centers_1d\n",
    "from pdftabextract.extract import make_grid_from_positions\n",
    "from pdftabextract.extract import fit_texts_into_grid, datatable_to_dataframe\n",
    "\n",
    "from tabula import read_pdf\n",
    "import pandas as pd\n",
    "\n",
    "%matplotlib inline"
   ]
  },
  {
   "cell_type": "code",
   "execution_count": 2,
   "metadata": {},
   "outputs": [],
   "source": [
    "from tables_detector.tables_detector import TableDetector"
   ]
  },
  {
   "cell_type": "code",
   "execution_count": 3,
   "metadata": {},
   "outputs": [],
   "source": [
    "\n",
    "dat_path = \"../../../dat/DATASETS/NL 14614829 - Claim File- image 1_Part 1/Output\"\n",
    "#dat_path = \"../../../dat\""
   ]
  },
  {
   "cell_type": "code",
   "execution_count": 4,
   "metadata": {},
   "outputs": [
    {
     "name": "stdout",
     "output_type": "stream",
     "text": [
      "Conversion started\n",
      "Conversion done\n"
     ]
    },
    {
     "data": {
      "text/plain": [
       "0"
      ]
     },
     "execution_count": 4,
     "metadata": {},
     "output_type": "execute_result"
    }
   ],
   "source": [
    "#pdf_file_name = 'Confirmation of  Coverage - 1.pdf'\n",
    "pdf_file_name = 'Accident-Handwritten_V3.pdf'\n",
    "#pdf_file_name = 'Accident Claim - 2[1406].pdf'\n",
    "#pdf_file_name = 'Deidentified medical record.pdf'\n",
    "#pdf_file_name = 'EgyptJHaematol_2012_37_4_207_134966_5.pdf'\n",
    "\n",
    "base_file_name = os.path.splitext(pdf_file_name)[0]\n",
    "page_num = 1\n",
    "# Convert pdf to tiff\n",
    "print('Conversion started')\n",
    "#cmd = 'convert -density 300 ' + pdf_file_name + '[' + str(page_num-1) + ']' + ' -resize 250% ' + base_file_name+'.tiff'\n",
    "cmd = 'convert -density 300 ' + re.escape(pdf_file_name) + '[' + str(page_num-1) + ']' + ' ' + re.escape(base_file_name)+'.tiff'\n",
    "#cmd = 'convert -density 150 ' + pdf_file_name + ' ' + base_file_name+'.tiff'\n",
    "os.system(cmd)\n",
    "print('Conversion done')\n",
    "\n",
    "#base_file_name = 'Page 1'\n",
    "# Convert tiff to pdf sandwitch\n",
    "cmd = 'tesseract' + ' ' + re.escape(base_file_name)+'.tiff' + ' ' + re.escape(base_file_name)+'_pdf_sand' + ' pdf'\n",
    "#cmd = 'tesseract' + ' ' + 'Page 3.tiff' + ' ' + base_file_name+'_pdf_sand' + ' pdf'\n",
    "os.system(cmd)\n",
    "\n",
    "# Convert pdf sandwitch to xml\n",
    "xml_file = base_file_name+'.xml'\n",
    "pdf_sand_file_name = base_file_name+'_pdf_sand.pdf'\n",
    "cmd = 'pdftohtml -c -hidden -xml' + ' ' + re.escape(pdf_sand_file_name) + ' ' + re.escape(xml_file)\n",
    "os.system(cmd)\n"
   ]
  },
  {
   "cell_type": "code",
   "execution_count": 5,
   "metadata": {},
   "outputs": [
    {
     "data": {
      "text/plain": [
       "\"\\n# Convert tiff to pdf sandwitch\\nbase_file_name = 'Page 1'\\n# Convert tiff to pdf sandwitch\\ncmd = 'tesseract' + ' ' + re.escape(base_file_name)+'.tiff' + ' ' + re.escape(base_file_name)+'_pdf_sand' + ' pdf'\\n#cmd = 'tesseract' + ' ' + 'Page 3.tiff' + ' ' + base_file_name+'_pdf_sand' + ' pdf'\\nos.system(cmd)\\n\\n# Convert pdf sandwitch to xml\\nxml_file = base_file_name+'.xml'\\npdf_sand_file_name = base_file_name+'_pdf_sand.pdf'\\ncmd = 'pdftohtml -c -hidden -xml' + ' ' + re.escape(base_file_name)+'_pdf_sand.pdf' + ' ' + re.escape(xml_file)\\nos.system(cmd)\\n\""
      ]
     },
     "execution_count": 5,
     "metadata": {},
     "output_type": "execute_result"
    }
   ],
   "source": [
    "'''\n",
    "# Convert tiff to pdf sandwitch\n",
    "base_file_name = 'Page 1'\n",
    "# Convert tiff to pdf sandwitch\n",
    "cmd = 'tesseract' + ' ' + re.escape(base_file_name)+'.tiff' + ' ' + re.escape(base_file_name)+'_pdf_sand' + ' pdf'\n",
    "#cmd = 'tesseract' + ' ' + 'Page 3.tiff' + ' ' + base_file_name+'_pdf_sand' + ' pdf'\n",
    "os.system(cmd)\n",
    "\n",
    "# Convert pdf sandwitch to xml\n",
    "xml_file = base_file_name+'.xml'\n",
    "pdf_sand_file_name = base_file_name+'_pdf_sand.pdf'\n",
    "cmd = 'pdftohtml -c -hidden -xml' + ' ' + re.escape(base_file_name)+'_pdf_sand.pdf' + ' ' + re.escape(xml_file)\n",
    "os.system(cmd)\n",
    "'''"
   ]
  },
  {
   "cell_type": "code",
   "execution_count": 6,
   "metadata": {},
   "outputs": [],
   "source": [
    "#!python3 -m http.server 8080 --bind 127.0.0.1"
   ]
  },
  {
   "cell_type": "markdown",
   "metadata": {},
   "source": [
    " http://127.0.0.1:8080/pdf2xml-viewer.html."
   ]
  },
  {
   "cell_type": "code",
   "execution_count": 7,
   "metadata": {},
   "outputs": [
    {
     "name": "stdout",
     "output_type": "stream",
     "text": [
      " 0e521b72-651c-4a00-b4b8-2803d3b.pdf\r\n",
      " 0e521b72-651c-4a00-b4b8-2803d3b91f79_1.tiff\r\n",
      " 0e521b72-651c-4a00-b4b8-2803d3b91f79_1.tiff_table.jpg\r\n",
      " 0e521b72-651c-4a00-b4b8-2803d3b91f79_1.xml\r\n",
      " 3.tiff.pdf\r\n",
      "'Accident Claim - 2[1406]-1_1.jpg'\r\n",
      "'Accident Claim - 2[1406]-2_1.jpg'\r\n",
      "'Accident Claim - 2[1406]-3_1.jpg'\r\n",
      "'Accident Claim - 2[1406]-4_1.jpg'\r\n",
      "'Accident Claim - 2[1406]-5_1.jpg'\r\n",
      "'Accident Claim - 2[1406].json'\r\n",
      "'Accident Claim - 2[1406].pdf'\r\n",
      "'Accident Claim - 2[1406].tiff'\r\n",
      "'Accident Claim - 2[1406].tiff_table.jpg'\r\n",
      "'Accident Claim - 2[1406].xml'\r\n",
      "'Accident Claim - 2[1406]_pdf_sand.pdf'\r\n",
      " Accident-Handwritten_V3-1_1.jpg\r\n",
      " Accident-Handwritten_V3-1_1.jpg_table.jpg\r\n",
      " Accident-Handwritten_V3-1_1.png\r\n",
      " Accident-Handwritten_V3-2_1.jpg\r\n",
      " Accident-Handwritten_V3-3_1.jpg\r\n",
      " Accident-Handwritten_V3-3_1.jpg_table.jpg\r\n",
      " Accident-Handwritten_V3.json\r\n",
      " Accident-Handwritten_V3.pdf\r\n",
      " Accident-Handwritten_V3.tiff\r\n",
      " Accident-Handwritten_V3.tiff_table.jpg\r\n",
      " Accident-Handwritten_V3.xml\r\n",
      " Accident-Handwritten_V3_pdf_sand.pdf\r\n",
      " Accident-Handwritten_V3_table_0.json\r\n",
      " Accident-Handwritten_V3_table_1.json\r\n",
      " Accident-Handwritten_V3_table_2.json\r\n",
      "'Confirmation of  Coverage - 1-1_1.jpg'\r\n",
      "'Confirmation of  Coverage - 1.json'\r\n",
      "'Confirmation of  Coverage - 1.pdf'\r\n",
      "'Confirmation of  Coverage - 1.tiff'\r\n",
      "'Confirmation of  Coverage - 1.tiff_table.jpg'\r\n",
      "'Confirmation of  Coverage - 1.xml'\r\n",
      "'Confirmation of  Coverage - 1_pdf_sand.pdf'\r\n",
      "'Confirmation of  Coverage - 2.pdf'\r\n",
      "'Confirmation of  Coverage - 3.pdf'\r\n",
      "'Confirmation of  Coverage - 4.pdf'\r\n",
      "'Deidentified medical record.pdf'\r\n",
      "'Deidentified medical record.tiff'\r\n",
      "'Deidentified medical record_pdf_sand.pdf'\r\n",
      " EgyptJHaematol_2012_37_4_207_134966_5-1_1.jpg\r\n",
      " EgyptJHaematol_2012_37_4_207_134966_5-1_1.jpg_table.jpg\r\n",
      " EgyptJHaematol_2012_37_4_207_134966_5.jpg\r\n",
      " EgyptJHaematol_2012_37_4_207_134966_5.json\r\n",
      " EgyptJHaematol_2012_37_4_207_134966_5.pdf\r\n",
      " EgyptJHaematol_2012_37_4_207_134966_5.tiff\r\n",
      " EgyptJHaematol_2012_37_4_207_134966_5.tiff_table.jpg\r\n",
      " EgyptJHaematol_2012_37_4_207_134966_5.txt\r\n",
      " EgyptJHaematol_2012_37_4_207_134966_5.xml\r\n",
      " EgyptJHaematol_2012_37_4_207_134966_5_pdf_sand.pdf\r\n",
      " Laboratory-results-for-sample-B76.png\r\n",
      "'Page 1-1_1.jpg'\r\n",
      "'Page 1.json'\r\n",
      "'Page 1.png'\r\n",
      "'Page 1.tiff'\r\n",
      "'Page 1.tiff_table.jpg'\r\n",
      "'Page 1.xml'\r\n",
      "'Page 1_pdf_sand.pdf'\r\n",
      "'Page 3.jpg_table.jpg'\r\n",
      "'Page 3.tiff'\r\n",
      "'Page 3.tiff_table.jpg'\r\n",
      "'Page 3.tiff_table_75_08.jpg'\r\n",
      "'Page 3.xml'\r\n",
      "'Page 3_mod.tiff_table - Copy.jpg'\r\n",
      "'Page 3_mod.tiff_table.jpg'\r\n",
      "'Page 3_mod_no_table.tiff_table.jpg'\r\n",
      "'Page 3_text_pdf.pdf'\r\n",
      "'Page 3_text_xml-1_1.png'\r\n",
      "'Page 3_text_xml.xml'\r\n",
      "'Page 5.jpg_table.jpg'\r\n",
      "'Page 7.jpg_table.jpg'\r\n",
      "'Page 8.jpg.json'\r\n",
      "'Page 8.jpg_table.jpg'\r\n",
      " Page_3.png\r\n",
      "'Voluntary Benefits Disability Claim -1.pdf'\r\n",
      " __pycache__\r\n",
      " acc.tiff\r\n",
      " base_file_name+_pdf_sand.pdf\r\n",
      " catalog_30s_notebook.ipynb\r\n",
      " deployed\r\n",
      " histogram-scrap.ipynb\r\n",
      " histogram.ipynb\r\n",
      " images\r\n",
      " medical.pdf\r\n",
      " non_local_means_denoise.ipynb\r\n",
      " out.ttx.txt\r\n",
      " out.txt\r\n",
      " out.txt.txt\r\n",
      " pdf2xml-viewer.html\r\n",
      " pdftabextract\r\n",
      " plots\r\n",
      " predictor.py\r\n",
      " tables_detector\r\n",
      " tables_detector-Copy1.ipynb\r\n",
      " tables_detector-Copy2.ipynb\r\n",
      " tables_detector-Copy3.ipynb\r\n",
      " tables_detector-Copy4.ipynb\r\n",
      " tables_detector-class-M.ipynb\r\n",
      " tables_detector-class.ipynb\r\n",
      " tables_detector-hosting_fn.py\r\n",
      " tables_detector-zc-grid-tabula.ipynb\r\n",
      " tables_detector-zc-grid.ipynb\r\n",
      " tables_detector-zero_crossings.ipynb\r\n",
      " tables_detector.ipynb\r\n",
      " tabula\r\n",
      " tabula_example.ipynb\r\n",
      " test-1_1.png\r\n",
      " test.pdf\r\n",
      " test.xml\r\n",
      " test2.tiff\r\n",
      " test_lab_results.jpg\r\n",
      " test_lab_results.pdf\r\n",
      " test_lab_results.txt\r\n",
      " test_lab_results.txt.txt\r\n",
      " watershed_dist_trans_seg.ipynb\r\n"
     ]
    }
   ],
   "source": [
    "!ls\n"
   ]
  },
  {
   "cell_type": "code",
   "execution_count": 8,
   "metadata": {},
   "outputs": [],
   "source": [
    "#file_name = '0e521b72-651c-4a00-b4b8-2803d3b91f79_1.tiff'\n",
    "#xml_file = '0e521b72-651c-4a00-b4b8-2803d3b91f79_1.xml'\n",
    "#pdf_file_name = 'Accident Claim - 2[1406].pdf'\n",
    "#base_file_name = 'Accident Claim - 2[1406]'\n",
    "file_name = base_file_name+'.tiff'\n",
    "#xml_file = base_file_name+'.xml'\n",
    "\n",
    "\n",
    "#file_name = 'Page 1.tiff'\n",
    "#xml_file = 'Page 1.xml'\n",
    "\n",
    "#file_name = 'Page 3.jpg' # OK\n",
    "#file_name = 'Page 5.jpg' # OK\n",
    "#file_name = 'Page 7.jpg' # OK\n",
    "#file_name = 'Page 8.jpg' # NOK\n",
    "#file_name = 'Page 3.tiff' # NOK\n",
    "#file_name = 'Page 3_mod.tiff' # NOK\n",
    "#file_name = 'Page 3_mod_no_table.tiff' # NOK\n",
    "#img_orig = cv2.imread(os.path.join(dat_path, file_name), 0)\n",
    "img_orig = cv2.imread(file_name, 0)\n",
    "img_orig = cv2.threshold(img_orig, 0, 255, cv2.THRESH_BINARY | cv2.THRESH_OTSU)[1]\n",
    "img = (255 - img_orig.copy())/255\n",
    "img = img[:, :-100]\n"
   ]
  },
  {
   "cell_type": "code",
   "execution_count": 9,
   "metadata": {},
   "outputs": [
    {
     "data": {
      "text/plain": [
       "<matplotlib.image.AxesImage at 0x7f3cb8bb78d0>"
      ]
     },
     "execution_count": 9,
     "metadata": {},
     "output_type": "execute_result"
    },
    {
     "data": {
      "image/png": "[encoded data removed]",
      "text/plain": [
       "<Figure size 432x288 with 1 Axes>"
      ]
     },
     "metadata": {},
     "output_type": "display_data"
    }
   ],
   "source": [
    "plt.imshow(img,cmap='gray')"
   ]
  },
  {
   "cell_type": "code",
   "execution_count": 10,
   "metadata": {},
   "outputs": [
    {
     "data": {
      "text/plain": [
       "(3508, 2379)"
      ]
     },
     "execution_count": 10,
     "metadata": {},
     "output_type": "execute_result"
    }
   ],
   "source": [
    "img.shape"
   ]
  },
  {
   "cell_type": "code",
   "execution_count": 11,
   "metadata": {},
   "outputs": [
    {
     "data": {
      "text/plain": [
       "\"\\n#img_new = cv2.resize(img, (img.shape[0], img.shape[1] + 100))\\nimg_new = np.zeros((img.shape[0], img.shape[1] + 100))\\nimg_new[:, 100:] = img\\n#img_new = np.concatenate(np.zeros((img.shape[0], 100)), img)\\nplt.imshow(img_new,cmap='gray')\\nimg = img_new.copy()\\n\""
      ]
     },
     "execution_count": 11,
     "metadata": {},
     "output_type": "execute_result"
    }
   ],
   "source": [
    "'''\n",
    "#img_new = cv2.resize(img, (img.shape[0], img.shape[1] + 100))\n",
    "img_new = np.zeros((img.shape[0], img.shape[1] + 100))\n",
    "img_new[:, 100:] = img\n",
    "#img_new = np.concatenate(np.zeros((img.shape[0], 100)), img)\n",
    "plt.imshow(img_new,cmap='gray')\n",
    "img = img_new.copy()\n",
    "'''"
   ]
  },
  {
   "cell_type": "code",
   "execution_count": 12,
   "metadata": {},
   "outputs": [
    {
     "name": "stdout",
     "output_type": "stream",
     "text": [
      "====================================================================================================\n",
      "> Grid with 9 rows, 2 columns\n",
      "====================================================================================================\n",
      "> Grid with 3 rows, 4 columns\n",
      "====================================================================================================\n",
      "> Grid with 1 rows, 2 columns\n",
      "====================================================================================================\n",
      "> Grid with 4 rows, 2 columns\n",
      "====================================================================================================\n",
      "> Grid with 1 rows, 2 columns\n",
      "====================================================================================================\n"
     ]
    },
    {
     "data": {
      "image/png": "[encoded data removed]",
      "text/plain": [
       "<Figure size 432x288 with 1 Axes>"
      ]
     },
     "metadata": {},
     "output_type": "display_data"
    },
    {
     "data": {
      "text/plain": [
       "'{\"data\": [{\"0\": {\"0\": \"Dates of Diagnosis\", \"1\": \"Service (including Code (ICD);\", \"2\": \"Confinement)\"}, \"1\": {\"0\": \"Diagnosis Description\", \"1\": \"\", \"2\": \"\"}, \"2\": {\"0\": \"Procedure}\", \"1\": \"\", \"2\": \"\"}, \"3\": {\"0\": \"\\\\u201d Procedure Description\", \"1\": \"\", \"2\": \"\"}}]}'"
      ]
     },
     "execution_count": 12,
     "metadata": {},
     "output_type": "execute_result"
    }
   ],
   "source": [
    "verbose = False\n",
    "# 3508x2379 ~ 90linesx25words ~ pixels/word = 96, pixels/line=40--> strip_height > 40 (*2 for header usually > 2 lines) (100) w_max_pool < 96 (50)\n",
    "tables_detector = TableDetector(verbose, strip_height=50, w_max_pool=75, min_col_width=250, ratio_clip_max=0.25)\n",
    "#tables_detector = TableDetector(verbose, strip_height=50, w_max_pool=50, min_col_width=100, ratio_clip_max=0.25)\n",
    "tables = tables_detector.detect_tables(img)\n",
    "\n",
    "tables_detector.fit_text_to_tables(xml_file)\n",
    "tables_detector.visualize_tables(img_orig, file_name)\n",
    "#tables_detector.save_json(base_file_name)\n",
    "list_of_json_tables = tables_detector.get_tables_in_json()\n",
    "json.dumps({\"data\": list_of_json_tables})"
   ]
  },
  {
   "cell_type": "code",
   "execution_count": 13,
   "metadata": {},
   "outputs": [
    {
     "data": {
      "text/plain": [
       "[{'0': {'0': 'Dates of Diagnosis',\n",
       "   '1': 'Service (including Code (ICD);',\n",
       "   '2': 'Confinement)'},\n",
       "  '1': {'0': 'Diagnosis Description', '1': '', '2': ''},\n",
       "  '2': {'0': 'Procedure}', '1': '', '2': ''},\n",
       "  '3': {'0': '” Procedure Description', '1': '', '2': ''}}]"
      ]
     },
     "execution_count": 13,
     "metadata": {},
     "output_type": "execute_result"
    }
   ],
   "source": [
    "list_of_json_tables"
   ]
  },
  {
   "cell_type": "code",
   "execution_count": 14,
   "metadata": {},
   "outputs": [
    {
     "data": {
      "text/plain": [
       "[{'table_start': 1100,\n",
       "  'col_positions': array([ 224,  824, 1274, 1724, 2155]),\n",
       "  'table_end': 1400}]"
      ]
     },
     "execution_count": 14,
     "metadata": {},
     "output_type": "execute_result"
    }
   ],
   "source": [
    "tables_detector.tables"
   ]
  },
  {
   "cell_type": "code",
   "execution_count": 15,
   "metadata": {},
   "outputs": [],
   "source": [
    "coordinates = []\n",
    "for table in tables_detector.tables:\n",
    "    #json.loads(table.to_json().encode('utf-8').decode('utf-8'))\n",
    "    coordinates.append({'x1': int(table['col_positions'][0]), 'y1':int(table['table_start']) , 'x2':int(table['col_positions'][-1]),'y2': int(table['table_end'])})\n"
   ]
  },
  {
   "cell_type": "code",
   "execution_count": 16,
   "metadata": {},
   "outputs": [
    {
     "data": {
      "text/plain": [
       "[{'x1': 224, 'y1': 1100, 'x2': 2155, 'y2': 1400}]"
      ]
     },
     "execution_count": 16,
     "metadata": {},
     "output_type": "execute_result"
    }
   ],
   "source": [
    "coordinates"
   ]
  },
  {
   "cell_type": "code",
   "execution_count": 17,
   "metadata": {},
   "outputs": [
    {
     "data": {
      "text/plain": [
       "'{\"data\": [{\"0\": {\"0\": \"Dates of Diagnosis\", \"1\": \"Service (including Code (ICD);\", \"2\": \"Confinement)\"}, \"1\": {\"0\": \"Diagnosis Description\", \"1\": \"\", \"2\": \"\"}, \"2\": {\"0\": \"Procedure}\", \"1\": \"\", \"2\": \"\"}, \"3\": {\"0\": \"\\\\u201d Procedure Description\", \"1\": \"\", \"2\": \"\"}}], \"coordinates\": [{\"x1\": 224, \"y1\": 1100, \"x2\": 2155, \"y2\": 1400}]}'"
      ]
     },
     "execution_count": 17,
     "metadata": {},
     "output_type": "execute_result"
    }
   ],
   "source": [
    "json.dumps({\"data\": list_of_json_tables, \"coordinates\": coordinates})"
   ]
  },
  {
   "cell_type": "code",
   "execution_count": 18,
   "metadata": {},
   "outputs": [
    {
     "data": {
      "text/html": [
       "<div>\n",
       "<style scoped>\n",
       "    .dataframe tbody tr th:only-of-type {\n",
       "        vertical-align: middle;\n",
       "    }\n",
       "\n",
       "    .dataframe tbody tr th {\n",
       "        vertical-align: top;\n",
       "    }\n",
       "\n",
       "    .dataframe thead th {\n",
       "        text-align: right;\n",
       "    }\n",
       "</style>\n",
       "<table border=\"1\" class=\"dataframe\">\n",
       "  <thead>\n",
       "    <tr style=\"text-align: right;\">\n",
       "      <th></th>\n",
       "      <th>0</th>\n",
       "      <th>1</th>\n",
       "      <th>2</th>\n",
       "      <th>3</th>\n",
       "    </tr>\n",
       "  </thead>\n",
       "  <tbody>\n",
       "    <tr>\n",
       "      <th>0</th>\n",
       "      <td>Dates of Diagnosis</td>\n",
       "      <td>Diagnosis Description</td>\n",
       "      <td>Procedure}</td>\n",
       "      <td>” Procedure Description</td>\n",
       "    </tr>\n",
       "    <tr>\n",
       "      <th>1</th>\n",
       "      <td>Service (including Code (ICD);</td>\n",
       "      <td></td>\n",
       "      <td></td>\n",
       "      <td></td>\n",
       "    </tr>\n",
       "    <tr>\n",
       "      <th>2</th>\n",
       "      <td>Confinement)</td>\n",
       "      <td></td>\n",
       "      <td></td>\n",
       "      <td></td>\n",
       "    </tr>\n",
       "  </tbody>\n",
       "</table>\n",
       "</div>"
      ],
      "text/plain": [
       "                                0                      1           2  \\\n",
       "0              Dates of Diagnosis  Diagnosis Description  Procedure}   \n",
       "1  Service (including Code (ICD);                                      \n",
       "2                    Confinement)                                      \n",
       "\n",
       "                         3  \n",
       "0  ” Procedure Description  \n",
       "1                           \n",
       "2                           "
      ]
     },
     "execution_count": 18,
     "metadata": {},
     "output_type": "execute_result"
    }
   ],
   "source": [
    "df = tables_detector.tables_df[0]\n",
    "df"
   ]
  },
  {
   "cell_type": "code",
   "execution_count": 20,
   "metadata": {},
   "outputs": [
    {
     "data": {
      "text/plain": [
       "3"
      ]
     },
     "execution_count": 20,
     "metadata": {},
     "output_type": "execute_result"
    }
   ],
   "source": [
    "len(df)"
   ]
  },
  {
   "cell_type": "code",
   "execution_count": 19,
   "metadata": {},
   "outputs": [
    {
     "ename": "SyntaxError",
     "evalue": "invalid syntax (<ipython-input-19-0a20b6eb4ba4>, line 6)",
     "output_type": "error",
     "traceback": [
      "\u001b[0;36m  File \u001b[0;32m\"<ipython-input-19-0a20b6eb4ba4>\"\u001b[0;36m, line \u001b[0;32m6\u001b[0m\n\u001b[0;31m    table_JSON['row_count'] =\u001b[0m\n\u001b[0m                              ^\u001b[0m\n\u001b[0;31mSyntaxError\u001b[0m\u001b[0;31m:\u001b[0m invalid syntax\n"
     ]
    }
   ],
   "source": [
    "'''\n",
    "def format_JSON(tables_df, coordinates):\n",
    "    tables_JSON = []\n",
    "    for i, table in enumerate(tables_df):\n",
    "        table_JSON = {}\n",
    "        table_JSON['Id'] = i\n",
    "        table_JSON['row_count'] = len(table)\n",
    "        table_JSON['col_count'] = \n",
    "        table_JSON['coordinates'] = coordinates[i]\n",
    "        table_JSON['data'] = \n",
    "        \n",
    "        table_df = pd.DataFrame('Id', 'row_count', 'col_count', 'coordinates', 'data')\n",
    "        tables_JSON.append(table_JSON)\n",
    "'''"
   ]
  },
  {
   "cell_type": "code",
   "execution_count": null,
   "metadata": {},
   "outputs": [],
   "source": [
    "'''\n",
    "df = tables_detector.tables_df[0]\n",
    "idx = range(len(df.columns))\n",
    "new_names = []\n",
    "for i in range(len(df.columns)):\n",
    "    new_names.append(str(i))\n",
    "new_names\n",
    "df.columns = new_names\n",
    "'''"
   ]
  },
  {
   "cell_type": "code",
   "execution_count": null,
   "metadata": {},
   "outputs": [],
   "source": [
    "df"
   ]
  },
  {
   "cell_type": "code",
   "execution_count": null,
   "metadata": {},
   "outputs": [],
   "source": [
    "\n",
    "df_tabula = read_pdf(pdf_sand_file_name)# If tables with lines, better use tabula \n",
    "\n",
    "try:\n",
    "    df_tabula.to_json(base_file_name+'.json')\n",
    "    #list_of_json_tables = [json.loads(df_tabula.to_json())]\n",
    "    list_of_json_tables = read_pdf(pdf_file_name, pages=\"1\", output_format=\"json\")\n",
    "    \n",
    "except:\n",
    "    verbose = False\n",
    "    # 3508x2379 ~ 90linesx25words ~ pixels/word = 96, pixels/line=40--> strip_height > 40 (*2 for header usually > 2 lines) (100) w_max_pool < 96 (50)\n",
    "    tables_detector = TableDetector(verbose, strip_height=50, w_max_pool=75, min_col_width=250, ratio_clip_max=0.25)\n",
    "    tables = tables_detector.detect_tables(img)\n",
    "    tables_detector.visualize_tables(img_orig, file_name)\n",
    "    tables_detector.fit_text_to_tables(xml_file)\n",
    "    #tables_detector.save_json(base_file_name)\n",
    "    list_of_json_tables = tables_detector.get_tables_in_json()\n",
    "    \n",
    "json.dumps({\"data\": list_of_json_tables})"
   ]
  },
  {
   "cell_type": "code",
   "execution_count": null,
   "metadata": {},
   "outputs": [],
   "source": [
    "list_of_json_tables"
   ]
  },
  {
   "cell_type": "code",
   "execution_count": null,
   "metadata": {},
   "outputs": [],
   "source": [
    "df_tabula"
   ]
  },
  {
   "cell_type": "code",
   "execution_count": null,
   "metadata": {},
   "outputs": [],
   "source": [
    "with open(base_file_name+'.json', 'w') as outfile:  \n",
    "    json.dump({\"data\": list_of_json_tables}, outfile)"
   ]
  }
 ],
 "metadata": {
  "kernelspec": {
   "display_name": "Python 3",
   "language": "python",
   "name": "python3"
  },
  "language_info": {
   "codemirror_mode": {
    "name": "ipython",
    "version": 3
   },
   "file_extension": ".py",
   "mimetype": "text/x-python",
   "name": "python",
   "nbconvert_exporter": "python",
   "pygments_lexer": "ipython3",
   "version": "3.6.5"
  }
 },
 "nbformat": 4,
 "nbformat_minor": 2
}
