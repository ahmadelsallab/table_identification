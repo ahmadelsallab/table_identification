{
 "cells": [
  {
   "cell_type": "code",
   "execution_count": 14,
   "metadata": {},
   "outputs": [
    {
     "name": "stderr",
     "output_type": "stream",
     "text": [
      "INFO:sagemaker:Created S3 bucket: sagemaker-us-east-1-620580205565\n",
      "INFO:sagemaker:Creating model with name: sagemaker-mxnet-2018-10-10-13-03-05-737\n",
      "INFO:sagemaker:Creating endpoint with name sagemaker-mxnet-2018-10-10-13-03-05-737\n"
     ]
    },
    {
     "name": "stdout",
     "output_type": "stream",
     "text": [
      "---------------------------------------------------------------!"
     ]
    }
   ],
   "source": [
    "# (bucket_name='sagemaker-tables-detector', key='tables-detector-data.pickle.zip')\n",
    "\n",
    "import sagemaker\n",
    "from sagemaker import get_execution_role\n",
    "\n",
    "sagemaker_session = sagemaker.Session()\n",
    "\n",
    "role = get_execution_role()\n",
    "\n",
    "from sagemaker.mxnet.model import MXNetModel,MXNetPredictor\n",
    "\n",
    "sagemaker_model = MXNetModel(model_data=None,\n",
    "                             role=role, entry_point=\"tables_detector-hosting_fn.py\",py_version=\"py3\")\n",
    "\n",
    "\n",
    "predictor = sagemaker_model.deploy(initial_instance_count=1, instance_type='ml.t2.medium' ) # , instance_type='local'\n",
    "#predictor =MXNetPredictor('sagemaker-mxnet-2018-10-09-16-31-21-144')\n",
    "\n",
    "\n"
   ]
  },
  {
   "cell_type": "markdown",
   "metadata": {},
   "source": [
    "# Inference from previously deployed endpoint"
   ]
  },
  {
   "cell_type": "code",
   "execution_count": 28,
   "metadata": {},
   "outputs": [
    {
     "name": "stdout",
     "output_type": "stream",
     "text": [
      "there are  2 tables in tables-detector-data.pickle37.zip\n",
      "{\n",
      "    \"data\": [\n",
      "        {\n",
      "            \"col1\": {\n",
      "                \"0\": \"\",\n",
      "                \"1\": \"Sensory\",\n",
      "                \"2\": \";\",\n",
      "                \"3\": \"Ability to respond to Perception\",\n",
      "                \"4\": \"discomfort. .\"\n",
      "            },\n",
      "            \"col2\": {\n",
      "                \"0\": \"\",\n",
      "                \"1\": \"| 4 Completely Very Limited      3 Slightly     4No\",\n",
      "                \"2\": \"i Limited      esponds only \\u2014 Limited    Impairment\",\n",
      "                \"3\": \"| (does not moan, | flinch or grasp} to Unresponsive           communicating to painfulstimuli. Difficulty in         cannot always commands, but Responde to verbal         commands, has no sensory deficit Respondsto verbal\",\n",
      "                \"4\": \"pressurerelated | painful stimuli due | to diminished level ' of consciousness or sedation OR limited                discomfort OR has @ sensory impairment Which limits the bility to feel painor                  communicate discornfort OR has some impairment which limits ability to                        discomfort. which would limit ability to feel pain or communicate\"\n",
      "            },\n",
      "            \"col3\": {\n",
      "                \"0\": \"\",\n",
      "                \"1\": \"\",\n",
      "                \"2\": \"\",\n",
      "                \"3\": \"\",\n",
      "                \"4\": \"\"\n",
      "            }\n",
      "        },\n",
      "        {\n",
      "            \"col1\": {\n",
      "                \"0\": \"Moisture Degree to\",\n",
      "                \"1\": \"wnien iS exposed to hich the tne s an\\\" ski\",\n",
      "                \"10\": \"\",\n",
      "                \"11\": \"\",\n",
      "                \"12\": \"Nutrition Usual food intake pattern.\",\n",
      "                \"13\": \"\",\n",
      "                \"14\": \"\",\n",
      "                \"15\": \"\",\n",
      "                \"16\": \"\",\n",
      "                \"17\": \"\",\n",
      "                \"18\": \"Friction and\",\n",
      "                \"19\": \"Shear\",\n",
      "                \"2\": \"moisture,\",\n",
      "                \"20\": \"\",\n",
      "                \"3\": \"Activity Degree of\",\n",
      "                \"4\": \"physicalactivity :\",\n",
      "                \"5\": \"\",\n",
      "                \"6\": \"\",\n",
      "                \"7\": \"Mobility\",\n",
      "                \"8\": \"Ability and oe to change na 9\",\n",
      "                \"9\": \"body position.\"\n",
      "            },\n",
      "            \"col2\": {\n",
      "                \"0\": \"1 Constantly Moist ;      2 Very Moist Skin is in oftan but not often but          3 Occasionally Skin is occasionally Moist             4 Rarely Moist Skin is usually dry. Linen only requires\",\n",
      "                \"1\": \"Skin is kept moist almost constantly by perspiration,urine etc.                          Mustbe changed at east once a shift. always moist. Linen           changeis required moist. An extralinen                   Changing at routine intervals.\",\n",
      "                \"10\": \"\",\n",
      "                \"11\": \"\",\n",
      "                \"12\": \"1 Very Foor e Never eais acomplete meal. Rarely eats more than a third             2 Probably complete meal inadequate Raraly oat a                 3 Adequate 4 servings of meat meats. Eats atotalof ats over of most                 aflem meal. Never refuses a meal. Occasionally 3 most of every\",\n",
      "                \"13\": \"of any food offered. ess ofraamtaess; Eats 2 servings or ry Pees \\\"Y-             and generally only eats half of any food offered. Wil occasionally take a              and dairy products aday OR is ona Whehomme Sot ee Oe                   eats between meals. supplements. Does not require\",\n",
      "                \"14\": \"TakesaoePale\\u201d       dietary supplement.    nutritional needs.\",\n",
      "                \"15\": \"\",\n",
      "                \"16\": \"supplement.\",\n",
      "                \"17\": \"\",\n",
      "                \"18\": \"1 Problem 2 Potential       3 No Apparent\",\n",
      "                \"19\": \"maximum assistance Requires moderate to      Problem afnves feebly or Can lift themselves Problem\",\n",
      "                \"2\": \"every time person is moved or turned. Dampness is detected         approximately once a day.\",\n",
      "                \"20\": \"in moving.     requires minimum               completely during\",\n",
      "                \"3\": \"Confined to bed. 1 Bedfast     | 2 Chairtast Ability to walk         3. Walks Occasionally Occasionally walks         4 Walks Walks outside room at Frequently\",\n",
      "                \"4\": \"severely nite! bear own weight. n-existent. Cannot         but for very short distances. Most of            every 2 hours inside least twice a day and\",\n",
      "                \"5\": \"time. in bed/chair.        room.\",\n",
      "                \"6\": \"\",\n",
      "                \"7\": \"1 Completely 2 Very Limited 3. Slightly 4No\",\n",
      "                \"8\": \"slight changes in body Does not make even lmmobile                  Makes occasional Slight changes in body Of extremity position.               thoughslight Limited Makes frequent              frequent changes Limitations Makes major and\",\n",
      "                \"9\": \"or extremity position without assistance.        significant changes Unable to make unaided.               changes in body or extremity position independently.                     assistance. in position without\"\n",
      "            }\n",
      "        }\n",
      "    ]\n",
      "}\n"
     ]
    }
   ],
   "source": [
    "import sagemaker\n",
    "from sagemaker import get_execution_role\n",
    "import json\n",
    "import pandas as pd\n",
    "sagemaker_session = sagemaker.Session()\n",
    "\n",
    "role = get_execution_role()\n",
    "\n",
    "from sagemaker.mxnet.model import MXNetModel,MXNetPredictor\n",
    "\n",
    "#predictor =MXNetPredictor('sagemaker-mxnet-2018-10-19-19-28-10-154') # Writing files as is. If s3 files are in subfolders, the name includes the subfolder which doesn't exist\n",
    "#predictor =MXNetPredictor('sagemaker-mxnet-2018-10-23-14-22-26-095') # Feeding streams to cv2.imread. Not working\n",
    "#predictor =MXNetPredictor('sagemaker-mxnet-2018-10-23-14-50-27-786') # Split name to get file name only\n",
    "#predictor =MXNetPredictor('sagemaker-mxnet-2018-10-24-13-03-50-315') # Harathi solution with bytes_data\n",
    "# predictor =MXNetPredictor('sagemaker-mxnet-2018-10-23-15-50-43-104') # Fixed xml and image file names, to avoid special char issue\n",
    "\n",
    "predictor =MXNetPredictor('sagemaker-mxnet-2018-10-25-17-55-15-019') # Returning coordinates\n",
    "\n",
    "\n",
    "#image_file_name = \"0e521b72-651c-4a00-b4b8-2803d3b91f79å1.tif\"\n",
    "#xml_file_name = \"0e521b72-651c-4a00-b4b8-2803d3b91f79å1.txt\"\n",
    "\n",
    "#image_file_name = \"ClaimExtractedImages/0e521b72-651c-4a00-b4b8-2803d3b91f79å1.tif\"\n",
    "#xml_file_name = \"XMLFiles/0e521b72-651c-4a00-b4b8-2803d3b91f79å1.txt\"\n",
    "\n",
    "#image_file_name = \"ClaimExtractedImages/1.tif\"\n",
    "#xml_file_name = \"XMLFiles/2.txt\"\n",
    "\n",
    "image_file_name = \"ClaimExtractedImages/0e521b72-651c-4a00-b4b8-2803d3b91f79_1.tiff\"\n",
    "xml_file_name = \"XMLFiles/0e521b72-651c-4a00-b4b8-2803d3b91f79_1.xml\"\n",
    "\n",
    "#image_file_name = \"Accident-Handwritten_V3.tiff\"\n",
    "#xml_file_name = \"Accident-Handwritten_V3.xml\"\n",
    "\n",
    "\n",
    "data = {\"bucket\": 'unum-files', \"xml_file\": xml_file_name,\"image_file\":image_file_name}\n",
    "#data = {\"bucket\": 'sagemaker-tables-detector', \"xml_file\": xml_file_name,\"image_file\":image_file_name}\n",
    "\n",
    "response = predictor.predict(data)\n",
    "#print(response)\n",
    "print(\"there are \",len(response['data']),\"tables in\",xml_file_name.split(\".\")[0])\n",
    "print(json.dumps(response, sort_keys=True, indent=4).encode('utf-8').decode('utf-8'))\n"
   ]
  }
 ],
 "metadata": {
  "kernelspec": {
   "display_name": "Python 3",
   "language": "python",
   "name": "python3"
  },
  "language_info": {
   "codemirror_mode": {
    "name": "ipython",
    "version": 3
   },
   "file_extension": ".py",
   "mimetype": "text/x-python",
   "name": "python",
   "nbconvert_exporter": "python",
   "pygments_lexer": "ipython3",
   "version": "3.6.5"
  }
 },
 "nbformat": 4,
 "nbformat_minor": 2
}
