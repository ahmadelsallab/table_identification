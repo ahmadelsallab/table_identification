{
 "cells": [
  {
   "cell_type": "code",
   "execution_count": 10,
   "metadata": {},
   "outputs": [],
   "source": [
    "import boto3\n",
    "import pickle"
   ]
  },
  {
   "cell_type": "markdown",
   "metadata": {},
   "source": [
    "#### upload file to S3"
   ]
  },
  {
   "cell_type": "code",
   "execution_count": 12,
   "metadata": {},
   "outputs": [],
   "source": [
    "s3 = boto3.resource('s3', aws_access_key_id='', aws_secret_access_key = '')\n",
    "#give the location of file name in the disk as first argument and location of S3 bucket where to upload the file as second argument\n",
    "s3.Bucket('bucketname').upload_file('/local/file/here.txt','mains3bucket/folder/s3key') "
   ]
  },
  {
   "cell_type": "markdown",
   "metadata": {},
   "source": [
    "#### To write binary data to S3"
   ]
  },
  {
   "cell_type": "code",
   "execution_count": null,
   "metadata": {},
   "outputs": [],
   "source": [
    "s3 = boto3.resource('s3', aws_access_key_id='', aws_secret_access_key = '')\n",
    "\n",
    "key= 'new/Page3/hand_printed.pkl'\n",
    "obj = pickle.dumps(hp_crops, protocol=2)\n",
    "s3.Object(bucket_name = <BUCKET NAME>, key = key).put(Body= obj) ## Body = some binary data"
   ]
  }
 ],
 "metadata": {
  "kernelspec": {
   "display_name": "Python 3",
   "language": "python",
   "name": "python3"
  },
  "language_info": {
   "codemirror_mode": {
    "name": "ipython",
    "version": 3
   },
   "file_extension": ".py",
   "mimetype": "text/x-python",
   "name": "python",
   "nbconvert_exporter": "python",
   "pygments_lexer": "ipython3",
   "version": "3.6.5"
  }
 },
 "nbformat": 4,
 "nbformat_minor": 2
}
