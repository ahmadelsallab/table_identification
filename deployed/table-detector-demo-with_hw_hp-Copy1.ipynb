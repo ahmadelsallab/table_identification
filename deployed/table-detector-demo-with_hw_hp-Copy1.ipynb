{
 "cells": [
  {
   "cell_type": "code",
   "execution_count": 3,
   "metadata": {},
   "outputs": [
    {
     "ename": "UndefinedModelAttributeError",
     "evalue": "\"serviceId\" not defined in the metadata of the model: ServiceModel(sagemaker-runtime)",
     "output_type": "error",
     "traceback": [
      "\u001b[0;31m---------------------------------------------------------------------------\u001b[0m",
      "\u001b[0;31mKeyError\u001b[0m                                  Traceback (most recent call last)",
      "\u001b[0;32m~/anaconda3/envs/python3/lib/python3.6/site-packages/botocore/model.py\u001b[0m in \u001b[0;36m_get_metadata_property\u001b[0;34m(self, name)\u001b[0m\n\u001b[1;32m    321\u001b[0m         \u001b[0;32mtry\u001b[0m\u001b[0;34m:\u001b[0m\u001b[0;34m\u001b[0m\u001b[0m\n\u001b[0;32m--> 322\u001b[0;31m             \u001b[0;32mreturn\u001b[0m \u001b[0mself\u001b[0m\u001b[0;34m.\u001b[0m\u001b[0mmetadata\u001b[0m\u001b[0;34m[\u001b[0m\u001b[0mname\u001b[0m\u001b[0;34m]\u001b[0m\u001b[0;34m\u001b[0m\u001b[0m\n\u001b[0m\u001b[1;32m    323\u001b[0m         \u001b[0;32mexcept\u001b[0m \u001b[0mKeyError\u001b[0m\u001b[0;34m:\u001b[0m\u001b[0;34m\u001b[0m\u001b[0m\n",
      "\u001b[0;31mKeyError\u001b[0m: 'serviceId'",
      "\nDuring handling of the above exception, another exception occurred:\n",
      "\u001b[0;31mUndefinedModelAttributeError\u001b[0m              Traceback (most recent call last)",
      "\u001b[0;32m<ipython-input-3-22c8db526fe0>\u001b[0m in \u001b[0;36m<module>\u001b[0;34m()\u001b[0m\n\u001b[1;32m      4\u001b[0m \u001b[0;32mfrom\u001b[0m \u001b[0msagemaker\u001b[0m \u001b[0;32mimport\u001b[0m \u001b[0mget_execution_role\u001b[0m\u001b[0;34m\u001b[0m\u001b[0m\n\u001b[1;32m      5\u001b[0m \u001b[0;34m\u001b[0m\u001b[0m\n\u001b[0;32m----> 6\u001b[0;31m \u001b[0msagemaker_session\u001b[0m \u001b[0;34m=\u001b[0m \u001b[0msagemaker\u001b[0m\u001b[0;34m.\u001b[0m\u001b[0mSession\u001b[0m\u001b[0;34m(\u001b[0m\u001b[0;34m)\u001b[0m\u001b[0;34m\u001b[0m\u001b[0m\n\u001b[0m\u001b[1;32m      7\u001b[0m \u001b[0;34m\u001b[0m\u001b[0m\n\u001b[1;32m      8\u001b[0m \u001b[0mrole\u001b[0m \u001b[0;34m=\u001b[0m \u001b[0mget_execution_role\u001b[0m\u001b[0;34m(\u001b[0m\u001b[0;34m)\u001b[0m\u001b[0;34m\u001b[0m\u001b[0m\n",
      "\u001b[0;32m~/anaconda3/envs/python3/lib/python3.6/site-packages/sagemaker/session.py\u001b[0m in \u001b[0;36m__init__\u001b[0;34m(self, boto_session, sagemaker_client, sagemaker_runtime_client)\u001b[0m\n\u001b[1;32m     77\u001b[0m             \u001b[0mself\u001b[0m\u001b[0;34m.\u001b[0m\u001b[0mconfig\u001b[0m \u001b[0;34m=\u001b[0m \u001b[0;32mNone\u001b[0m\u001b[0;34m\u001b[0m\u001b[0m\n\u001b[1;32m     78\u001b[0m \u001b[0;34m\u001b[0m\u001b[0m\n\u001b[0;32m---> 79\u001b[0;31m         \u001b[0mself\u001b[0m\u001b[0;34m.\u001b[0m\u001b[0m_initialize\u001b[0m\u001b[0;34m(\u001b[0m\u001b[0mboto_session\u001b[0m\u001b[0;34m,\u001b[0m \u001b[0msagemaker_client\u001b[0m\u001b[0;34m,\u001b[0m \u001b[0msagemaker_runtime_client\u001b[0m\u001b[0;34m)\u001b[0m\u001b[0;34m\u001b[0m\u001b[0m\n\u001b[0m\u001b[1;32m     80\u001b[0m \u001b[0;34m\u001b[0m\u001b[0m\n\u001b[1;32m     81\u001b[0m     \u001b[0;32mdef\u001b[0m \u001b[0m_initialize\u001b[0m\u001b[0;34m(\u001b[0m\u001b[0mself\u001b[0m\u001b[0;34m,\u001b[0m \u001b[0mboto_session\u001b[0m\u001b[0;34m,\u001b[0m \u001b[0msagemaker_client\u001b[0m\u001b[0;34m,\u001b[0m \u001b[0msagemaker_runtime_client\u001b[0m\u001b[0;34m)\u001b[0m\u001b[0;34m:\u001b[0m\u001b[0;34m\u001b[0m\u001b[0m\n",
      "\u001b[0;32m~/anaconda3/envs/python3/lib/python3.6/site-packages/sagemaker/session.py\u001b[0m in \u001b[0;36m_initialize\u001b[0;34m(self, boto_session, sagemaker_client, sagemaker_runtime_client)\u001b[0m\n\u001b[1;32m     98\u001b[0m         \u001b[0;32melse\u001b[0m\u001b[0;34m:\u001b[0m\u001b[0;34m\u001b[0m\u001b[0m\n\u001b[1;32m     99\u001b[0m             \u001b[0mconfig\u001b[0m \u001b[0;34m=\u001b[0m \u001b[0mbotocore\u001b[0m\u001b[0;34m.\u001b[0m\u001b[0mconfig\u001b[0m\u001b[0;34m.\u001b[0m\u001b[0mConfig\u001b[0m\u001b[0;34m(\u001b[0m\u001b[0mread_timeout\u001b[0m\u001b[0;34m=\u001b[0m\u001b[0;36m80\u001b[0m\u001b[0;34m)\u001b[0m\u001b[0;34m\u001b[0m\u001b[0m\n\u001b[0;32m--> 100\u001b[0;31m             \u001b[0mself\u001b[0m\u001b[0;34m.\u001b[0m\u001b[0msagemaker_runtime_client\u001b[0m \u001b[0;34m=\u001b[0m \u001b[0mself\u001b[0m\u001b[0;34m.\u001b[0m\u001b[0mboto_session\u001b[0m\u001b[0;34m.\u001b[0m\u001b[0mclient\u001b[0m\u001b[0;34m(\u001b[0m\u001b[0;34m'runtime.sagemaker'\u001b[0m\u001b[0;34m,\u001b[0m \u001b[0mconfig\u001b[0m\u001b[0;34m=\u001b[0m\u001b[0mconfig\u001b[0m\u001b[0;34m)\u001b[0m\u001b[0;34m\u001b[0m\u001b[0m\n\u001b[0m\u001b[1;32m    101\u001b[0m \u001b[0;34m\u001b[0m\u001b[0m\n\u001b[1;32m    102\u001b[0m         \u001b[0mprepend_user_agent\u001b[0m\u001b[0;34m(\u001b[0m\u001b[0mself\u001b[0m\u001b[0;34m.\u001b[0m\u001b[0msagemaker_runtime_client\u001b[0m\u001b[0;34m)\u001b[0m\u001b[0;34m\u001b[0m\u001b[0m\n",
      "\u001b[0;32m~/anaconda3/envs/python3/lib/python3.6/site-packages/boto3/session.py\u001b[0m in \u001b[0;36mclient\u001b[0;34m(self, service_name, region_name, api_version, use_ssl, verify, endpoint_url, aws_access_key_id, aws_secret_access_key, aws_session_token, config)\u001b[0m\n\u001b[1;32m    261\u001b[0m             \u001b[0maws_access_key_id\u001b[0m\u001b[0;34m=\u001b[0m\u001b[0maws_access_key_id\u001b[0m\u001b[0;34m,\u001b[0m\u001b[0;34m\u001b[0m\u001b[0m\n\u001b[1;32m    262\u001b[0m             \u001b[0maws_secret_access_key\u001b[0m\u001b[0;34m=\u001b[0m\u001b[0maws_secret_access_key\u001b[0m\u001b[0;34m,\u001b[0m\u001b[0;34m\u001b[0m\u001b[0m\n\u001b[0;32m--> 263\u001b[0;31m             aws_session_token=aws_session_token, config=config)\n\u001b[0m\u001b[1;32m    264\u001b[0m \u001b[0;34m\u001b[0m\u001b[0m\n\u001b[1;32m    265\u001b[0m     def resource(self, service_name, region_name=None, api_version=None,\n",
      "\u001b[0;32m~/anaconda3/envs/python3/lib/python3.6/site-packages/botocore/session.py\u001b[0m in \u001b[0;36mcreate_client\u001b[0;34m(self, service_name, region_name, api_version, use_ssl, verify, endpoint_url, aws_access_key_id, aws_secret_access_key, aws_session_token, config)\u001b[0m\n\u001b[1;32m    807\u001b[0m             \u001b[0mis_secure\u001b[0m\u001b[0;34m=\u001b[0m\u001b[0muse_ssl\u001b[0m\u001b[0;34m,\u001b[0m \u001b[0mendpoint_url\u001b[0m\u001b[0;34m=\u001b[0m\u001b[0mendpoint_url\u001b[0m\u001b[0;34m,\u001b[0m \u001b[0mverify\u001b[0m\u001b[0;34m=\u001b[0m\u001b[0mverify\u001b[0m\u001b[0;34m,\u001b[0m\u001b[0;34m\u001b[0m\u001b[0m\n\u001b[1;32m    808\u001b[0m             \u001b[0mcredentials\u001b[0m\u001b[0;34m=\u001b[0m\u001b[0mcredentials\u001b[0m\u001b[0;34m,\u001b[0m \u001b[0mscoped_config\u001b[0m\u001b[0;34m=\u001b[0m\u001b[0mself\u001b[0m\u001b[0;34m.\u001b[0m\u001b[0mget_scoped_config\u001b[0m\u001b[0;34m(\u001b[0m\u001b[0;34m)\u001b[0m\u001b[0;34m,\u001b[0m\u001b[0;34m\u001b[0m\u001b[0m\n\u001b[0;32m--> 809\u001b[0;31m             client_config=config, api_version=api_version)\n\u001b[0m\u001b[1;32m    810\u001b[0m         \u001b[0;32mreturn\u001b[0m \u001b[0mclient\u001b[0m\u001b[0;34m\u001b[0m\u001b[0m\n\u001b[1;32m    811\u001b[0m \u001b[0;34m\u001b[0m\u001b[0m\n",
      "\u001b[0;32m~/anaconda3/envs/python3/lib/python3.6/site-packages/botocore/client.py\u001b[0m in \u001b[0;36mcreate_client\u001b[0;34m(self, service_name, region_name, is_secure, endpoint_url, verify, credentials, scoped_config, api_version, client_config)\u001b[0m\n\u001b[1;32m     68\u001b[0m         \u001b[0mservice_name\u001b[0m \u001b[0;34m=\u001b[0m \u001b[0mfirst_non_none_response\u001b[0m\u001b[0;34m(\u001b[0m\u001b[0mresponses\u001b[0m\u001b[0;34m,\u001b[0m \u001b[0mdefault\u001b[0m\u001b[0;34m=\u001b[0m\u001b[0mservice_name\u001b[0m\u001b[0;34m)\u001b[0m\u001b[0;34m\u001b[0m\u001b[0m\n\u001b[1;32m     69\u001b[0m         \u001b[0mservice_model\u001b[0m \u001b[0;34m=\u001b[0m \u001b[0mself\u001b[0m\u001b[0;34m.\u001b[0m\u001b[0m_load_service_model\u001b[0m\u001b[0;34m(\u001b[0m\u001b[0mservice_name\u001b[0m\u001b[0;34m,\u001b[0m \u001b[0mapi_version\u001b[0m\u001b[0;34m)\u001b[0m\u001b[0;34m\u001b[0m\u001b[0m\n\u001b[0;32m---> 70\u001b[0;31m         \u001b[0mcls\u001b[0m \u001b[0;34m=\u001b[0m \u001b[0mself\u001b[0m\u001b[0;34m.\u001b[0m\u001b[0m_create_client_class\u001b[0m\u001b[0;34m(\u001b[0m\u001b[0mservice_name\u001b[0m\u001b[0;34m,\u001b[0m \u001b[0mservice_model\u001b[0m\u001b[0;34m)\u001b[0m\u001b[0;34m\u001b[0m\u001b[0m\n\u001b[0m\u001b[1;32m     71\u001b[0m         endpoint_bridge = ClientEndpointBridge(\n\u001b[1;32m     72\u001b[0m             \u001b[0mself\u001b[0m\u001b[0;34m.\u001b[0m\u001b[0m_endpoint_resolver\u001b[0m\u001b[0;34m,\u001b[0m \u001b[0mscoped_config\u001b[0m\u001b[0;34m,\u001b[0m \u001b[0mclient_config\u001b[0m\u001b[0;34m,\u001b[0m\u001b[0;34m\u001b[0m\u001b[0m\n",
      "\u001b[0;32m~/anaconda3/envs/python3/lib/python3.6/site-packages/botocore/client.py\u001b[0m in \u001b[0;36m_create_client_class\u001b[0;34m(self, service_name, service_model)\u001b[0m\n\u001b[1;32m     91\u001b[0m         \u001b[0mclass_attributes\u001b[0m\u001b[0;34m[\u001b[0m\u001b[0;34m'_PY_TO_OP_NAME'\u001b[0m\u001b[0;34m]\u001b[0m \u001b[0;34m=\u001b[0m \u001b[0mpy_name_to_operation_name\u001b[0m\u001b[0;34m\u001b[0m\u001b[0m\n\u001b[1;32m     92\u001b[0m         \u001b[0mbases\u001b[0m \u001b[0;34m=\u001b[0m \u001b[0;34m[\u001b[0m\u001b[0mBaseClient\u001b[0m\u001b[0;34m]\u001b[0m\u001b[0;34m\u001b[0m\u001b[0m\n\u001b[0;32m---> 93\u001b[0;31m         \u001b[0mservice_id\u001b[0m \u001b[0;34m=\u001b[0m \u001b[0mservice_model\u001b[0m\u001b[0;34m.\u001b[0m\u001b[0mservice_id\u001b[0m\u001b[0;34m.\u001b[0m\u001b[0mhyphenize\u001b[0m\u001b[0;34m(\u001b[0m\u001b[0;34m)\u001b[0m\u001b[0;34m\u001b[0m\u001b[0m\n\u001b[0m\u001b[1;32m     94\u001b[0m         self._event_emitter.emit(\n\u001b[1;32m     95\u001b[0m             \u001b[0;34m'creating-client-class.%s'\u001b[0m \u001b[0;34m%\u001b[0m \u001b[0mservice_id\u001b[0m\u001b[0;34m,\u001b[0m\u001b[0;34m\u001b[0m\u001b[0m\n",
      "\u001b[0;32m~/anaconda3/envs/python3/lib/python3.6/site-packages/botocore/utils.py\u001b[0m in \u001b[0;36m__get__\u001b[0;34m(self, obj, cls)\u001b[0m\n\u001b[1;32m    717\u001b[0m             \u001b[0;32mreturn\u001b[0m \u001b[0mself\u001b[0m\u001b[0;34m\u001b[0m\u001b[0m\n\u001b[1;32m    718\u001b[0m         \u001b[0;32melse\u001b[0m\u001b[0;34m:\u001b[0m\u001b[0;34m\u001b[0m\u001b[0m\n\u001b[0;32m--> 719\u001b[0;31m             \u001b[0mcomputed_value\u001b[0m \u001b[0;34m=\u001b[0m \u001b[0mself\u001b[0m\u001b[0;34m.\u001b[0m\u001b[0m_fget\u001b[0m\u001b[0;34m(\u001b[0m\u001b[0mobj\u001b[0m\u001b[0;34m)\u001b[0m\u001b[0;34m\u001b[0m\u001b[0m\n\u001b[0m\u001b[1;32m    720\u001b[0m             \u001b[0mobj\u001b[0m\u001b[0;34m.\u001b[0m\u001b[0m__dict__\u001b[0m\u001b[0;34m[\u001b[0m\u001b[0mself\u001b[0m\u001b[0;34m.\u001b[0m\u001b[0m_fget\u001b[0m\u001b[0;34m.\u001b[0m\u001b[0m__name__\u001b[0m\u001b[0;34m]\u001b[0m \u001b[0;34m=\u001b[0m \u001b[0mcomputed_value\u001b[0m\u001b[0;34m\u001b[0m\u001b[0m\n\u001b[1;32m    721\u001b[0m             \u001b[0;32mreturn\u001b[0m \u001b[0mcomputed_value\u001b[0m\u001b[0;34m\u001b[0m\u001b[0m\n",
      "\u001b[0;32m~/anaconda3/envs/python3/lib/python3.6/site-packages/botocore/model.py\u001b[0m in \u001b[0;36mservice_id\u001b[0;34m(self)\u001b[0m\n\u001b[1;32m    292\u001b[0m     \u001b[0;34m@\u001b[0m\u001b[0mCachedProperty\u001b[0m\u001b[0;34m\u001b[0m\u001b[0m\n\u001b[1;32m    293\u001b[0m     \u001b[0;32mdef\u001b[0m \u001b[0mservice_id\u001b[0m\u001b[0;34m(\u001b[0m\u001b[0mself\u001b[0m\u001b[0;34m)\u001b[0m\u001b[0;34m:\u001b[0m\u001b[0;34m\u001b[0m\u001b[0m\n\u001b[0;32m--> 294\u001b[0;31m         \u001b[0;32mreturn\u001b[0m \u001b[0mServiceId\u001b[0m\u001b[0;34m(\u001b[0m\u001b[0mself\u001b[0m\u001b[0;34m.\u001b[0m\u001b[0m_get_metadata_property\u001b[0m\u001b[0;34m(\u001b[0m\u001b[0;34m'serviceId'\u001b[0m\u001b[0;34m)\u001b[0m\u001b[0;34m)\u001b[0m\u001b[0;34m\u001b[0m\u001b[0m\n\u001b[0m\u001b[1;32m    295\u001b[0m \u001b[0;34m\u001b[0m\u001b[0m\n\u001b[1;32m    296\u001b[0m     \u001b[0;34m@\u001b[0m\u001b[0mCachedProperty\u001b[0m\u001b[0;34m\u001b[0m\u001b[0m\n",
      "\u001b[0;32m~/anaconda3/envs/python3/lib/python3.6/site-packages/botocore/model.py\u001b[0m in \u001b[0;36m_get_metadata_property\u001b[0;34m(self, name)\u001b[0m\n\u001b[1;32m    324\u001b[0m             raise UndefinedModelAttributeError(\n\u001b[1;32m    325\u001b[0m                 \u001b[0;34m'\"%s\" not defined in the metadata of the model: %s'\u001b[0m \u001b[0;34m%\u001b[0m\u001b[0;34m\u001b[0m\u001b[0m\n\u001b[0;32m--> 326\u001b[0;31m                 (name, self))\n\u001b[0m\u001b[1;32m    327\u001b[0m \u001b[0;34m\u001b[0m\u001b[0m\n\u001b[1;32m    328\u001b[0m     \u001b[0;31m# Signature version is one of the rare properties\u001b[0m\u001b[0;34m\u001b[0m\u001b[0;34m\u001b[0m\u001b[0m\n",
      "\u001b[0;31mUndefinedModelAttributeError\u001b[0m: \"serviceId\" not defined in the metadata of the model: ServiceModel(sagemaker-runtime)"
     ]
    }
   ],
   "source": [
    "# (bucket_name='sagemaker-tables-detector', key='tables-detector-data.pickle.zip')\n",
    "\n",
    "import sagemaker\n",
    "from sagemaker import get_execution_role\n",
    "\n",
    "sagemaker_session = sagemaker.Session()\n",
    "\n",
    "role = get_execution_role()\n",
    "\n",
    "from sagemaker.mxnet.model import MXNetModel,MXNetPredictor\n",
    "\n",
    "sagemaker_model = MXNetModel(model_data=None,\n",
    "                             role=role, entry_point=\"tables_detector-class-hocr-template-with_hp_hw-Copy1.py\",py_version=\"py3\")\n",
    "\n",
    "\n",
    "predictor = sagemaker_model.deploy(initial_instance_count=1, instance_type='ml.t2.medium' ) # , instance_type='local'\n",
    "#predictor =MXNetPredictor('sagemaker-mxnet-2018-10-09-16-31-21-144')\n",
    "\n",
    "\n"
   ]
  },
  {
   "cell_type": "markdown",
   "metadata": {},
   "source": [
    "# Inference from previously deployed endpoint"
   ]
  },
  {
   "cell_type": "code",
   "execution_count": 64,
   "metadata": {},
   "outputs": [
    {
     "ename": "ModelError",
     "evalue": "An error occurred (ModelError) when calling the InvokeEndpoint operation: Received server error (504) from model with message \"<html>\r\n<head><title>504 Gateway Time-out</title></head>\r\n<body bgcolor=\"white\">\r\n<center><h1>504 Gateway Time-out</h1></center>\r\n<hr><center>nginx/1.10.3 (Ubuntu)</center>\r\n</body>\r\n</html>\r\n\". See https://us-east-1.console.aws.amazon.com/cloudwatch/home?region=us-east-1#logEventViewer:group=/aws/sagemaker/Endpoints/sagemaker-mxnet-2018-11-12-13-38-23-326 in account 620580205565 for more information.",
     "output_type": "error",
     "traceback": [
      "\u001b[0;31m---------------------------------------------------------------------------\u001b[0m",
      "\u001b[0;31mModelError\u001b[0m                                Traceback (most recent call last)",
      "\u001b[0;32m<ipython-input-64-9f2850c4904c>\u001b[0m in \u001b[0;36m<module>\u001b[0;34m()\u001b[0m\n\u001b[1;32m     30\u001b[0m \u001b[0;31m#data = {\"bucket\": 'sagemaker-tables-detector', \"xml_file\": xml_file_name,\"image_file\":image_file_name}\u001b[0m\u001b[0;34m\u001b[0m\u001b[0;34m\u001b[0m\u001b[0m\n\u001b[1;32m     31\u001b[0m \u001b[0;34m\u001b[0m\u001b[0m\n\u001b[0;32m---> 32\u001b[0;31m \u001b[0mresponse\u001b[0m \u001b[0;34m=\u001b[0m \u001b[0mpredictor\u001b[0m\u001b[0;34m.\u001b[0m\u001b[0mpredict\u001b[0m\u001b[0;34m(\u001b[0m\u001b[0mdata\u001b[0m\u001b[0;34m)\u001b[0m\u001b[0;34m\u001b[0m\u001b[0m\n\u001b[0m\u001b[1;32m     33\u001b[0m \u001b[0;31m#print(response)\u001b[0m\u001b[0;34m\u001b[0m\u001b[0;34m\u001b[0m\u001b[0m\n\u001b[1;32m     34\u001b[0m \u001b[0mprint\u001b[0m\u001b[0;34m(\u001b[0m\u001b[0;34m\"there are \"\u001b[0m\u001b[0;34m,\u001b[0m\u001b[0mlen\u001b[0m\u001b[0;34m(\u001b[0m\u001b[0mresponse\u001b[0m\u001b[0;34m[\u001b[0m\u001b[0;34m'data'\u001b[0m\u001b[0;34m]\u001b[0m\u001b[0;34m)\u001b[0m\u001b[0;34m,\u001b[0m\u001b[0;34m\"tables in\"\u001b[0m\u001b[0;34m,\u001b[0m\u001b[0mhocr_file_name\u001b[0m\u001b[0;34m.\u001b[0m\u001b[0msplit\u001b[0m\u001b[0;34m(\u001b[0m\u001b[0;34m\".\"\u001b[0m\u001b[0;34m)\u001b[0m\u001b[0;34m[\u001b[0m\u001b[0;36m0\u001b[0m\u001b[0;34m]\u001b[0m\u001b[0;34m)\u001b[0m\u001b[0;34m\u001b[0m\u001b[0m\n",
      "\u001b[0;32m~/anaconda3/envs/python3/lib/python3.6/site-packages/sagemaker/predictor.py\u001b[0m in \u001b[0;36mpredict\u001b[0;34m(self, data)\u001b[0m\n\u001b[1;32m     85\u001b[0m             \u001b[0mrequest_args\u001b[0m\u001b[0;34m[\u001b[0m\u001b[0;34m'Accept'\u001b[0m\u001b[0;34m]\u001b[0m \u001b[0;34m=\u001b[0m \u001b[0mself\u001b[0m\u001b[0;34m.\u001b[0m\u001b[0maccept\u001b[0m\u001b[0;34m\u001b[0m\u001b[0m\n\u001b[1;32m     86\u001b[0m \u001b[0;34m\u001b[0m\u001b[0m\n\u001b[0;32m---> 87\u001b[0;31m         \u001b[0mresponse\u001b[0m \u001b[0;34m=\u001b[0m \u001b[0mself\u001b[0m\u001b[0;34m.\u001b[0m\u001b[0msagemaker_session\u001b[0m\u001b[0;34m.\u001b[0m\u001b[0msagemaker_runtime_client\u001b[0m\u001b[0;34m.\u001b[0m\u001b[0minvoke_endpoint\u001b[0m\u001b[0;34m(\u001b[0m\u001b[0;34m**\u001b[0m\u001b[0mrequest_args\u001b[0m\u001b[0;34m)\u001b[0m\u001b[0;34m\u001b[0m\u001b[0m\n\u001b[0m\u001b[1;32m     88\u001b[0m \u001b[0;34m\u001b[0m\u001b[0m\n\u001b[1;32m     89\u001b[0m         \u001b[0mresponse_body\u001b[0m \u001b[0;34m=\u001b[0m \u001b[0mresponse\u001b[0m\u001b[0;34m[\u001b[0m\u001b[0;34m'Body'\u001b[0m\u001b[0;34m]\u001b[0m\u001b[0;34m\u001b[0m\u001b[0m\n",
      "\u001b[0;32m~/anaconda3/envs/python3/lib/python3.6/site-packages/botocore/client.py\u001b[0m in \u001b[0;36m_api_call\u001b[0;34m(self, *args, **kwargs)\u001b[0m\n\u001b[1;32m    312\u001b[0m         \u001b[0;32mdef\u001b[0m \u001b[0m_api_call\u001b[0m\u001b[0;34m(\u001b[0m\u001b[0mself\u001b[0m\u001b[0;34m,\u001b[0m \u001b[0;34m*\u001b[0m\u001b[0margs\u001b[0m\u001b[0;34m,\u001b[0m \u001b[0;34m**\u001b[0m\u001b[0mkwargs\u001b[0m\u001b[0;34m)\u001b[0m\u001b[0;34m:\u001b[0m\u001b[0;34m\u001b[0m\u001b[0m\n\u001b[1;32m    313\u001b[0m             \u001b[0;31m# We're accepting *args so that we can give a more helpful\u001b[0m\u001b[0;34m\u001b[0m\u001b[0;34m\u001b[0m\u001b[0m\n\u001b[0;32m--> 314\u001b[0;31m             \u001b[0;31m# error message than TypeError: _api_call takes exactly\u001b[0m\u001b[0;34m\u001b[0m\u001b[0;34m\u001b[0m\u001b[0m\n\u001b[0m\u001b[1;32m    315\u001b[0m             \u001b[0;31m# 1 argument.\u001b[0m\u001b[0;34m\u001b[0m\u001b[0;34m\u001b[0m\u001b[0m\n\u001b[1;32m    316\u001b[0m             \u001b[0;32mif\u001b[0m \u001b[0margs\u001b[0m\u001b[0;34m:\u001b[0m\u001b[0;34m\u001b[0m\u001b[0m\n",
      "\u001b[0;32m~/anaconda3/envs/python3/lib/python3.6/site-packages/botocore/client.py\u001b[0m in \u001b[0;36m_make_api_call\u001b[0;34m(self, operation_name, api_params)\u001b[0m\n\u001b[1;32m    610\u001b[0m                 operation_model, request_dict)\n\u001b[1;32m    611\u001b[0m \u001b[0;34m\u001b[0m\u001b[0m\n\u001b[0;32m--> 612\u001b[0;31m         self.meta.events.emit(\n\u001b[0m\u001b[1;32m    613\u001b[0m             'after-call.{service_id}.{operation_name}'.format(\n\u001b[1;32m    614\u001b[0m                 \u001b[0mservice_id\u001b[0m\u001b[0;34m=\u001b[0m\u001b[0mservice_id\u001b[0m\u001b[0;34m,\u001b[0m\u001b[0;34m\u001b[0m\u001b[0m\n",
      "\u001b[0;31mModelError\u001b[0m: An error occurred (ModelError) when calling the InvokeEndpoint operation: Received server error (504) from model with message \"<html>\r\n<head><title>504 Gateway Time-out</title></head>\r\n<body bgcolor=\"white\">\r\n<center><h1>504 Gateway Time-out</h1></center>\r\n<hr><center>nginx/1.10.3 (Ubuntu)</center>\r\n</body>\r\n</html>\r\n\". See https://us-east-1.console.aws.amazon.com/cloudwatch/home?region=us-east-1#logEventViewer:group=/aws/sagemaker/Endpoints/sagemaker-mxnet-2018-11-12-13-38-23-326 in account 620580205565 for more information."
     ]
    }
   ],
   "source": [
    "import sagemaker\n",
    "from sagemaker import get_execution_role\n",
    "import json\n",
    "import pandas as pd\n",
    "sagemaker_session = sagemaker.Session()\n",
    "\n",
    "role = get_execution_role()\n",
    "\n",
    "from sagemaker.mxnet.model import MXNetModel, MXNetPredictor\n",
    "\n",
    "#predictor =MXNetPredictor('sagemaker-mxnet-2018-10-19-19-28-10-154') # Writing files as is. If s3 files are in subfolders, the name includes the subfolder which doesn't exist\n",
    "#predictor =MXNetPredictor('sagemaker-mxnet-2018-10-23-14-22-26-095') # Feeding streams to cv2.imread. Not working\n",
    "#predictor =MXNetPredictor('sagemaker-mxnet-2018-10-23-14-50-27-786') # Split name to get file name only\n",
    "#predictor =MXNetPredictor('sagemaker-mxnet-2018-10-24-13-03-50-315') # Harathi solution with bytes_data\n",
    "# predictor =MXNetPredictor('sagemaker-mxnet-2018-10-23-15-50-43-104') # Fixed xml and image file names, to avoid special char issue\n",
    "\n",
    "#predictor =MXNetPredictor('sagemaker-mxnet-2018-10-25-19-59-43-168') # Returning coordinates\n",
    "#predictor =MXNetPredictor('sagemaker-mxnet-2018-10-29-14-04-10-452') # Filter on known headers: generic mnot per col\n",
    "#predictor =MXNetPredictor('sagemaker-mxnet-2018-10-31-12-56-07-634') # Filter on known headers: specific per col\n",
    "predictor =MXNetPredictor(\"sagemaker-mxnet-2018-11-12-13-38-23-326\") # HP+HW+word level info from tesseract HOCR\n",
    "\n",
    "image_file_name = \"Accident Claim - 2_3.tiff\"\n",
    "hocr_file_name = \"Accident Claim - 2-pdfinput-sandwich-3.hocr\"\n",
    "\n",
    "#image_file_name = \"Accident-Handwritten_V3.tiff\"\n",
    "#xml_file_name = \"Accident-Handwritten_V3.xml\"\n",
    "\n",
    "#  unum-files\n",
    "data = {\"bucket\": 'sagemaker-tables-detector', \"hocr_file\": hocr_file_name,\"image_file\":image_file_name}\n",
    "#data = {\"bucket\": 'sagemaker-tables-detector', \"xml_file\": xml_file_name,\"image_file\":image_file_name}\n",
    "\n",
    "response = predictor.predict(data)\n",
    "#print(response)\n",
    "print(\"there are \",len(response['data']),\"tables in\",hocr_file_name.split(\".\")[0])\n",
    "print(json.dumps(response, sort_keys=True, indent=4).encode('utf-8').decode('utf-8'))\n"
   ]
  },
  {
   "cell_type": "code",
   "execution_count": 81,
   "metadata": {},
   "outputs": [
    {
     "name": "stdout",
     "output_type": "stream",
     "text": [
      "6\n"
     ]
    }
   ],
   "source": [
    "print(len(response['coordinates']))"
   ]
  },
  {
   "cell_type": "code",
   "execution_count": 82,
   "metadata": {},
   "outputs": [
    {
     "data": {
      "text/plain": [
       "[{'y1': 800, 'y2': 1100, 'x2': 4926, 'x1': 1349},\n",
       " {'y1': 2150, 'y2': 3650, 'x2': 5526, 'x1': 749},\n",
       " {'y1': 3900, 'y2': 4200, 'x2': 5526, 'x1': 749},\n",
       " {'y1': 4500, 'y2': 5150, 'x2': 5526, 'x1': 749},\n",
       " {'y1': 5550, 'y2': 5750, 'x2': 5526, 'x1': 749},\n",
       " {'y1': 6750, 'y2': 6900, 'x2': 5076, 'x1': 1199}]"
      ]
     },
     "execution_count": 82,
     "metadata": {},
     "output_type": "execute_result"
    }
   ],
   "source": [
    "response['coordinates']"
   ]
  },
  {
   "cell_type": "code",
   "execution_count": 43,
   "metadata": {},
   "outputs": [
    {
     "name": "stdout",
     "output_type": "stream",
     "text": [
      "there are  5 tables in Accident-Handwritten_V3\n",
      "{\n",
      "    \"data\": [\n",
      "        {\n",
      "            \"col1\": {\n",
      "                \"0\": \"Cail toll-free Monday through Friday, 8 a.m. to 8 p.m. Eastern Time.\",\n",
      "                \"1\": \"\",\n",
      "                \"2\": \"ATTENDING PHYSICIAN STATEMENT\"\n",
      "            },\n",
      "            \"col2\": {\n",
      "                \"0\": \"\",\n",
      "                \"1\": \"\",\n",
      "                \"2\": \"\"\n",
      "            }\n",
      "        },\n",
      "        {\n",
      "            \"col1\": {\n",
      "                \"0\": \"ACCIDENTDETAILS\",\n",
      "                \"1\": \"\",\n",
      "                \"2\": \"Is this condition the result of an accidental injury? \\u2014 Yes O1 No If yes, date of accident (mm/dd/yy) on\"\n",
      "            },\n",
      "            \"col2\": {\n",
      "                \"0\": \"\",\n",
      "                \"1\": \"\",\n",
      "                \"2\": \"\"\n",
      "            }\n",
      "        },\n",
      "        {\n",
      "            \"col1\": {\n",
      "                \"0\": \"Dates of Diagnosis\",\n",
      "                \"1\": \"Service (including Code (ICD)\",\n",
      "                \"2\": \"Confinement)\",\n",
      "                \"3\": \"\",\n",
      "                \"4\": \"\"\n",
      "            },\n",
      "            \"col2\": {\n",
      "                \"0\": \"Diagnosis Description\",\n",
      "                \"1\": \"\",\n",
      "                \"2\": \"\",\n",
      "                \"3\": \"\",\n",
      "                \"4\": \"\"\n",
      "            },\n",
      "            \"col3\": {\n",
      "                \"0\": \"| Procedure\",\n",
      "                \"1\": \"Code\",\n",
      "                \"2\": \"\",\n",
      "                \"3\": \"\",\n",
      "                \"4\": \"\"\n",
      "            },\n",
      "            \"col4\": {\n",
      "                \"0\": \"Procedure Description\",\n",
      "                \"1\": \"\",\n",
      "                \"2\": \"\",\n",
      "                \"3\": \"\",\n",
      "                \"4\": \"\"\n",
      "            }\n",
      "        },\n",
      "        {\n",
      "            \"col1\": {\n",
      "                \"0\": \"Medical Specialty ORTH DPAE DICE\",\n",
      "                \"1\": \"msGISMULL AVENUE mY LEWIS TON\",\n",
      "                \"2\": \"Telephone Number AGD _ 4g | i 75 AG\",\n",
      "                \"3\": \"R No if yes, what is the relationship?\"\n",
      "            },\n",
      "            \"col2\": {\n",
      "                \"0\": \"Degree MO\",\n",
      "                \"1\": \"\\\"Ne 64204\",\n",
      "                \"2\": \"\\u201cOe vl - Ceo keer Tax,IDLupe.\",\n",
      "                \"3\": \"\"\n",
      "            }\n",
      "        },\n",
      "        {\n",
      "            \"col1\": {\n",
      "                \"0\": \"Physician Signature \\u2014\",\n",
      "                \"1\": \"CL-1023 (02/17)   7\"\n",
      "            },\n",
      "            \"col2\": {\n",
      "                \"0\": \"Date O} -lo-\",\n",
      "                \"1\": \"\"\n",
      "            }\n",
      "        }\n",
      "    ]\n",
      "}\n"
     ]
    }
   ],
   "source": [
    "import sagemaker\n",
    "from sagemaker import get_execution_role\n",
    "import json\n",
    "import pandas as pd\n",
    "sagemaker_session = sagemaker.Session()\n",
    "\n",
    "role = get_execution_role()\n",
    "\n",
    "from sagemaker.mxnet.model import MXNetModel,MXNetPredictor\n",
    "\n",
    "predictor =MXNetPredictor('sagemaker-mxnet-2018-10-19-19-28-10-154')\n",
    "xml_file_name = \"Accident-Handwritten_V3.xml\"\n",
    "image_file_name = \"Accident-Handwritten_V3.tiff\"\n",
    "\n",
    "data = {\"bucket\": 'sagemaker-tables-detector', \"xml_file\": xml_file_name,\"image_file\":image_file_name}\n",
    "\n",
    "response = predictor.predict(data)\n",
    "#print(response)\n",
    "print(\"there are \",len(response['data']),\"tables in\",xml_file_name.split(\".\")[0])\n",
    "print(json.dumps(response, sort_keys=True, indent=4).encode('utf-8').decode('utf-8'))\n"
   ]
  },
  {
   "cell_type": "code",
   "execution_count": 25,
   "metadata": {},
   "outputs": [],
   "source": [
    "import boto3\n",
    "\n",
    "bucket = 'sagemaker-tables-detector'\n",
    "\n",
    "image_file_name = \"Accident-Handwritten_V3-0.jpg\"\n",
    "hocr_file_name = \"Accident-Handwritten_V3-sandwich.hocr\"\n",
    "\n",
    "#image_file_name = \"Accident-Handwritten_V3.tiff\"\n",
    "#xml_file_name = \"Accident-Handwritten_V3.xml\"\n",
    "\n",
    "#  unum-files\n",
    "data = {\"bucket\": 'sagemaker-tables-detector', \"hocr_file\": hocr_file_name,\"image_file\":image_file_name}\n",
    "# xml_file_name = \"Accident-Handwritten_V3.xml\"\n",
    "# image_file_name = \"Accident-Handwritten_V3.tiff\"\n",
    "\n",
    "# getting data\n",
    "s3 = boto3.resource('s3', aws_access_key_id='', aws_secret_access_key='')  # new key\n",
    "xml_file_stream = s3.Object(bucket_name=bucket, key=hocr_file_name)\n",
    "image_file_stream = s3.Object(bucket_name=bucket, key=image_file_name)\n",
    "\n",
    "# write from binary stream\n",
    "# xml_file_name = xml_file_name.split('/')[-1]\n",
    "hocr_file_name = 'hocr_file.html'\n",
    "with open(hocr_file_name, 'wb') as f:\n",
    "    f.write(xml_file_stream.get()[\"Body\"].read())\n",
    "\n",
    "# write from binary stream\n",
    "# image_file_name = image_file_name.split('/')[-1]\n",
    "image_file_name = 'image_file_name.tif'\n",
    "with open(image_file_name, 'wb') as f:\n",
    "    f.write(image_file_stream.get()[\"Body\"].read())"
   ]
  },
  {
   "cell_type": "code",
   "execution_count": 27,
   "metadata": {},
   "outputs": [],
   "source": [
    "import time\n",
    "\n",
    "import boto3\n",
    "import sagemaker\n",
    "from sagemaker import RealTimePredictor\n",
    "from sagemaker.mxnet import MXNetPredictor\n",
    "from sagemaker.predictor import json_serializer, json_deserializer\n",
    "\n",
    "\n",
    "def upload_file(s3, bucket, local_path_to_file, s3_path_to_file):\n",
    "    s3.Bucket(bucket).upload_file(local_path_to_file, s3_path_to_file)\n",
    "\n",
    "\n",
    "def download_file(s3, bucket, local_path_to_file, s3_path_to_file):\n",
    "    file_binary_stream = s3.Object(bucket_name=bucket, key=s3_path_to_file)\n",
    "    with open(local_path_to_file, 'wb') as f:\n",
    "        f.write(file_binary_stream.get()[\"Body\"].read())\n",
    "\n",
    "\n",
    "session = boto3.Session(region_name='us-west-2', aws_access_key_id='', aws_secret_access_key='')\n",
    "sagemaker_session = sagemaker.Session(boto_session=session)\n",
    "\n",
    "loc_predictor = MXNetPredictor('sagemaker-mxnet-2018-11-05-22-58-03-333', sagemaker_session)\n",
    "\n",
    "\n",
    "# Initialize handwriting model\n",
    "class JSONPredictor(RealTimePredictor):\n",
    "    def __init__(self, endpoint_name, sagemaker_session):\n",
    "        super(JSONPredictor, self).__init__(endpoint_name, sagemaker_session, json_serializer, json_deserializer)\n",
    "\n",
    "\n",
    "hw_predictor = JSONPredictor('pytorch-handwriting-ocr-2018-10-31-19-34-48-492', sagemaker_session)\n",
    "\n",
    "hp_predictor = MXNetPredictor('sagemaker-mxnet-2018-11-03-23-32-01-918', sagemaker_session)\n",
    "\n",
    "# Initialize spell corrector model\n",
    "spell_predictor = JSONPredictor('spell-corrector-2018-10-06-21-05-31-553', sagemaker_session)\n",
    "\n",
    "# Upload images to S3\n",
    "\n",
    "# print(\"Uploading images...\")\n",
    "# #Provide your access key and secret access key\n",
    "s3 = boto3.resource('s3', aws_access_key_id='', aws_secret_access_key='')\n",
    "\n",
    "download_file(s3,'sagemaker-tables-detector',\"Accident-Handwritten_V3-sandwich.hocr\",\"Accident-Handwritten_V3-sandwich.hocr\")"
   ]
  },
  {
   "cell_type": "code",
   "execution_count": 29,
   "metadata": {},
   "outputs": [],
   "source": [
    "download_file(s3,'sagemaker-tables-detector',\"Accident-Handwritten_V3-sandwich.hocr\",\"Accident-Handwritten_V3-sandwich.hocr\")"
   ]
  }
 ],
 "metadata": {
  "kernelspec": {
   "display_name": "conda_python3",
   "language": "python",
   "name": "conda_python3"
  },
  "language_info": {
   "codemirror_mode": {
    "name": "ipython",
    "version": 3
   },
   "file_extension": ".py",
   "mimetype": "text/x-python",
   "name": "python",
   "nbconvert_exporter": "python",
   "pygments_lexer": "ipython3",
   "version": "3.6.5"
  }
 },
 "nbformat": 4,
 "nbformat_minor": 2
}
