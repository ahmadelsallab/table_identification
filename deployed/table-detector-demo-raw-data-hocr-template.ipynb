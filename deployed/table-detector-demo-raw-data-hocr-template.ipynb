{
 "cells": [
  {
   "cell_type": "code",
   "execution_count": 19,
   "metadata": {},
   "outputs": [
    {
     "name": "stderr",
     "output_type": "stream",
     "text": [
      "INFO:sagemaker:Created S3 bucket: sagemaker-us-east-1-620580205565\n",
      "INFO:sagemaker:Creating model with name: sagemaker-mxnet-2018-11-11-10-56-36-102\n",
      "INFO:sagemaker:Creating endpoint with name sagemaker-mxnet-2018-11-11-10-56-36-102\n"
     ]
    },
    {
     "name": "stdout",
     "output_type": "stream",
     "text": [
      "-----------------------------------------------------------------------------------------------------------------*"
     ]
    },
    {
     "ename": "ValueError",
     "evalue": "Error hosting endpoint sagemaker-mxnet-2018-11-11-10-56-36-102: Failed Reason:  The primary container for production variant AllTraffic did not pass the ping health check. Please check CloudWatch logs for this endpoint.",
     "output_type": "error",
     "traceback": [
      "\u001b[0;31m---------------------------------------------------------------------------\u001b[0m",
      "\u001b[0;31mValueError\u001b[0m                                Traceback (most recent call last)",
      "\u001b[0;32m<ipython-input-19-f844fdc29862>\u001b[0m in \u001b[0;36m<module>\u001b[0;34m()\u001b[0m\n\u001b[1;32m     18\u001b[0m '''\n\u001b[1;32m     19\u001b[0m \u001b[0;34m\u001b[0m\u001b[0m\n\u001b[0;32m---> 20\u001b[0;31m \u001b[0mpredictor\u001b[0m \u001b[0;34m=\u001b[0m \u001b[0msagemaker_model\u001b[0m\u001b[0;34m.\u001b[0m\u001b[0mdeploy\u001b[0m\u001b[0;34m(\u001b[0m\u001b[0minitial_instance_count\u001b[0m\u001b[0;34m=\u001b[0m\u001b[0;36m1\u001b[0m\u001b[0;34m,\u001b[0m \u001b[0minstance_type\u001b[0m\u001b[0;34m=\u001b[0m\u001b[0;34m'ml.t2.medium'\u001b[0m \u001b[0;34m)\u001b[0m \u001b[0;31m# , instance_type='local'\u001b[0m\u001b[0;34m\u001b[0m\u001b[0m\n\u001b[0m\u001b[1;32m     21\u001b[0m \u001b[0;31m#predictor =MXNetPredictor('sagemaker-mxnet-2018-10-09-16-31-21-144')\u001b[0m\u001b[0;34m\u001b[0m\u001b[0;34m\u001b[0m\u001b[0m\n\u001b[1;32m     22\u001b[0m \u001b[0;34m\u001b[0m\u001b[0m\n",
      "\u001b[0;32m~/anaconda3/envs/python3/lib/python3.6/site-packages/sagemaker/model.py\u001b[0m in \u001b[0;36mdeploy\u001b[0;34m(self, initial_instance_count, instance_type, endpoint_name, tags)\u001b[0m\n\u001b[1;32m    106\u001b[0m         \u001b[0mproduction_variant\u001b[0m \u001b[0;34m=\u001b[0m \u001b[0msagemaker\u001b[0m\u001b[0;34m.\u001b[0m\u001b[0mproduction_variant\u001b[0m\u001b[0;34m(\u001b[0m\u001b[0mself\u001b[0m\u001b[0;34m.\u001b[0m\u001b[0mname\u001b[0m\u001b[0;34m,\u001b[0m \u001b[0minstance_type\u001b[0m\u001b[0;34m,\u001b[0m \u001b[0minitial_instance_count\u001b[0m\u001b[0;34m)\u001b[0m\u001b[0;34m\u001b[0m\u001b[0m\n\u001b[1;32m    107\u001b[0m         \u001b[0mself\u001b[0m\u001b[0;34m.\u001b[0m\u001b[0mendpoint_name\u001b[0m \u001b[0;34m=\u001b[0m \u001b[0mendpoint_name\u001b[0m \u001b[0;32mor\u001b[0m \u001b[0mself\u001b[0m\u001b[0;34m.\u001b[0m\u001b[0mname\u001b[0m\u001b[0;34m\u001b[0m\u001b[0m\n\u001b[0;32m--> 108\u001b[0;31m         \u001b[0mself\u001b[0m\u001b[0;34m.\u001b[0m\u001b[0msagemaker_session\u001b[0m\u001b[0;34m.\u001b[0m\u001b[0mendpoint_from_production_variants\u001b[0m\u001b[0;34m(\u001b[0m\u001b[0mself\u001b[0m\u001b[0;34m.\u001b[0m\u001b[0mendpoint_name\u001b[0m\u001b[0;34m,\u001b[0m \u001b[0;34m[\u001b[0m\u001b[0mproduction_variant\u001b[0m\u001b[0;34m]\u001b[0m\u001b[0;34m,\u001b[0m \u001b[0mtags\u001b[0m\u001b[0;34m)\u001b[0m\u001b[0;34m\u001b[0m\u001b[0m\n\u001b[0m\u001b[1;32m    109\u001b[0m         \u001b[0;32mif\u001b[0m \u001b[0mself\u001b[0m\u001b[0;34m.\u001b[0m\u001b[0mpredictor_cls\u001b[0m\u001b[0;34m:\u001b[0m\u001b[0;34m\u001b[0m\u001b[0m\n\u001b[1;32m    110\u001b[0m             \u001b[0;32mreturn\u001b[0m \u001b[0mself\u001b[0m\u001b[0;34m.\u001b[0m\u001b[0mpredictor_cls\u001b[0m\u001b[0;34m(\u001b[0m\u001b[0mself\u001b[0m\u001b[0;34m.\u001b[0m\u001b[0mendpoint_name\u001b[0m\u001b[0;34m,\u001b[0m \u001b[0mself\u001b[0m\u001b[0;34m.\u001b[0m\u001b[0msagemaker_session\u001b[0m\u001b[0;34m)\u001b[0m\u001b[0;34m\u001b[0m\u001b[0m\n",
      "\u001b[0;32m~/anaconda3/envs/python3/lib/python3.6/site-packages/sagemaker/session.py\u001b[0m in \u001b[0;36mendpoint_from_production_variants\u001b[0;34m(self, name, production_variants, tags, wait)\u001b[0m\n\u001b[1;32m    779\u001b[0m \u001b[0;34m\u001b[0m\u001b[0m\n\u001b[1;32m    780\u001b[0m             \u001b[0mself\u001b[0m\u001b[0;34m.\u001b[0m\u001b[0msagemaker_client\u001b[0m\u001b[0;34m.\u001b[0m\u001b[0mcreate_endpoint_config\u001b[0m\u001b[0;34m(\u001b[0m\u001b[0;34m**\u001b[0m\u001b[0mconfig_options\u001b[0m\u001b[0;34m)\u001b[0m\u001b[0;34m\u001b[0m\u001b[0m\n\u001b[0;32m--> 781\u001b[0;31m         \u001b[0;32mreturn\u001b[0m \u001b[0mself\u001b[0m\u001b[0;34m.\u001b[0m\u001b[0mcreate_endpoint\u001b[0m\u001b[0;34m(\u001b[0m\u001b[0mendpoint_name\u001b[0m\u001b[0;34m=\u001b[0m\u001b[0mname\u001b[0m\u001b[0;34m,\u001b[0m \u001b[0mconfig_name\u001b[0m\u001b[0;34m=\u001b[0m\u001b[0mname\u001b[0m\u001b[0;34m,\u001b[0m \u001b[0mwait\u001b[0m\u001b[0;34m=\u001b[0m\u001b[0mwait\u001b[0m\u001b[0;34m)\u001b[0m\u001b[0;34m\u001b[0m\u001b[0m\n\u001b[0m\u001b[1;32m    782\u001b[0m \u001b[0;34m\u001b[0m\u001b[0m\n\u001b[1;32m    783\u001b[0m     \u001b[0;32mdef\u001b[0m \u001b[0mexpand_role\u001b[0m\u001b[0;34m(\u001b[0m\u001b[0mself\u001b[0m\u001b[0;34m,\u001b[0m \u001b[0mrole\u001b[0m\u001b[0;34m)\u001b[0m\u001b[0;34m:\u001b[0m\u001b[0;34m\u001b[0m\u001b[0m\n",
      "\u001b[0;32m~/anaconda3/envs/python3/lib/python3.6/site-packages/sagemaker/session.py\u001b[0m in \u001b[0;36mcreate_endpoint\u001b[0;34m(self, endpoint_name, config_name, wait)\u001b[0m\n\u001b[1;32m    559\u001b[0m         \u001b[0mself\u001b[0m\u001b[0;34m.\u001b[0m\u001b[0msagemaker_client\u001b[0m\u001b[0;34m.\u001b[0m\u001b[0mcreate_endpoint\u001b[0m\u001b[0;34m(\u001b[0m\u001b[0mEndpointName\u001b[0m\u001b[0;34m=\u001b[0m\u001b[0mendpoint_name\u001b[0m\u001b[0;34m,\u001b[0m \u001b[0mEndpointConfigName\u001b[0m\u001b[0;34m=\u001b[0m\u001b[0mconfig_name\u001b[0m\u001b[0;34m)\u001b[0m\u001b[0;34m\u001b[0m\u001b[0m\n\u001b[1;32m    560\u001b[0m         \u001b[0;32mif\u001b[0m \u001b[0mwait\u001b[0m\u001b[0;34m:\u001b[0m\u001b[0;34m\u001b[0m\u001b[0m\n\u001b[0;32m--> 561\u001b[0;31m             \u001b[0mself\u001b[0m\u001b[0;34m.\u001b[0m\u001b[0mwait_for_endpoint\u001b[0m\u001b[0;34m(\u001b[0m\u001b[0mendpoint_name\u001b[0m\u001b[0;34m)\u001b[0m\u001b[0;34m\u001b[0m\u001b[0m\n\u001b[0m\u001b[1;32m    562\u001b[0m         \u001b[0;32mreturn\u001b[0m \u001b[0mendpoint_name\u001b[0m\u001b[0;34m\u001b[0m\u001b[0m\n\u001b[1;32m    563\u001b[0m \u001b[0;34m\u001b[0m\u001b[0m\n",
      "\u001b[0;32m~/anaconda3/envs/python3/lib/python3.6/site-packages/sagemaker/session.py\u001b[0m in \u001b[0;36mwait_for_endpoint\u001b[0;34m(self, endpoint, poll)\u001b[0m\n\u001b[1;32m    656\u001b[0m         \u001b[0;32mif\u001b[0m \u001b[0mstatus\u001b[0m \u001b[0;34m!=\u001b[0m \u001b[0;34m'InService'\u001b[0m\u001b[0;34m:\u001b[0m\u001b[0;34m\u001b[0m\u001b[0m\n\u001b[1;32m    657\u001b[0m             \u001b[0mreason\u001b[0m \u001b[0;34m=\u001b[0m \u001b[0mdesc\u001b[0m\u001b[0;34m.\u001b[0m\u001b[0mget\u001b[0m\u001b[0;34m(\u001b[0m\u001b[0;34m'FailureReason'\u001b[0m\u001b[0;34m,\u001b[0m \u001b[0;32mNone\u001b[0m\u001b[0;34m)\u001b[0m\u001b[0;34m\u001b[0m\u001b[0m\n\u001b[0;32m--> 658\u001b[0;31m             \u001b[0;32mraise\u001b[0m \u001b[0mValueError\u001b[0m\u001b[0;34m(\u001b[0m\u001b[0;34m'Error hosting endpoint {}: {} Reason: {}'\u001b[0m\u001b[0;34m.\u001b[0m\u001b[0mformat\u001b[0m\u001b[0;34m(\u001b[0m\u001b[0mendpoint\u001b[0m\u001b[0;34m,\u001b[0m \u001b[0mstatus\u001b[0m\u001b[0;34m,\u001b[0m \u001b[0mreason\u001b[0m\u001b[0;34m)\u001b[0m\u001b[0;34m)\u001b[0m\u001b[0;34m\u001b[0m\u001b[0m\n\u001b[0m\u001b[1;32m    659\u001b[0m         \u001b[0;32mreturn\u001b[0m \u001b[0mdesc\u001b[0m\u001b[0;34m\u001b[0m\u001b[0m\n\u001b[1;32m    660\u001b[0m \u001b[0;34m\u001b[0m\u001b[0m\n",
      "\u001b[0;31mValueError\u001b[0m: Error hosting endpoint sagemaker-mxnet-2018-11-11-10-56-36-102: Failed Reason:  The primary container for production variant AllTraffic did not pass the ping health check. Please check CloudWatch logs for this endpoint."
     ]
    }
   ],
   "source": [
    "# (bucket_name='sagemaker-tables-detector', key='tables-detector-data.pickle.zip')\n",
    "\n",
    "import sagemaker\n",
    "from sagemaker import get_execution_role\n",
    "\n",
    "sagemaker_session = sagemaker.Session()\n",
    "\n",
    "role = get_execution_role()\n",
    "\n",
    "from sagemaker.mxnet.model import MXNetModel,MXNetPredictor\n",
    "\n",
    "sagemaker_model = MXNetModel(model_data=None,\n",
    "                             role=role, entry_point=\"tables_detector-class-hocr-template-with_hp_hw.py\",py_version=\"py3\")\n",
    "\n",
    "'''\n",
    "sagemaker_model = MXNetModel(model_data=None,\n",
    "                             role=role, entry_point=\"tables_detector-class-hocr-template.py\",py_version=\"py3\")\n",
    "'''\n",
    "\n",
    "predictor = sagemaker_model.deploy(initial_instance_count=1, instance_type='ml.t2.medium' ) # , instance_type='local'\n",
    "#predictor =MXNetPredictor('sagemaker-mxnet-2018-10-09-16-31-21-144')\n",
    "\n",
    "\n"
   ]
  },
  {
   "cell_type": "markdown",
   "metadata": {},
   "source": [
    "# Inference from previously deployed endpoint"
   ]
  },
  {
   "cell_type": "code",
   "execution_count": null,
   "metadata": {},
   "outputs": [],
   "source": [
    "import sagemaker\n",
    "from sagemaker import get_execution_role\n",
    "import json\n",
    "import pandas as pd\n",
    "sagemaker_session = sagemaker.Session()\n",
    "\n",
    "role = get_execution_role()\n",
    "\n",
    "from sagemaker.mxnet.model import MXNetModel, MXNetPredictor\n",
    "\n",
    "#predictor =MXNetPredictor('sagemaker-mxnet-2018-10-19-19-28-10-154') # Writing files as is. If s3 files are in subfolders, the name includes the subfolder which doesn't exist\n",
    "#predictor =MXNetPredictor('sagemaker-mxnet-2018-10-23-14-22-26-095') # Feeding streams to cv2.imread. Not working\n",
    "#predictor =MXNetPredictor('sagemaker-mxnet-2018-10-23-14-50-27-786') # Split name to get file name only\n",
    "#predictor =MXNetPredictor('sagemaker-mxnet-2018-10-24-13-03-50-315') # Harathi solution with bytes_data\n",
    "# predictor =MXNetPredictor('sagemaker-mxnet-2018-10-23-15-50-43-104') # Fixed xml and image file names, to avoid special char issue\n",
    "\n",
    "#predictor =MXNetPredictor('sagemaker-mxnet-2018-10-25-19-59-43-168') # Returning coordinates\n",
    "#predictor =MXNetPredictor('sagemaker-mxnet-2018-10-29-14-04-10-452') # Filter on known headers: generic mnot per col\n",
    "#predictor =MXNetPredictor('sagemaker-mxnet-2018-10-31-12-56-07-634') # Filter on known headers: specific per col\n",
    "#predictor =MXNetPredictor(\"sagemaker-mxnet-2018-11-04-18-56-44-669\") # merged\n",
    "#predictor =MXNetPredictor(\"sagemaker-mxnet-2018-11-10-19-16-31-915\") # hocr template\n",
    "predictor =MXNetPredictor(\"sagemaker-mxnet-2018-11-11-10-56-36-102\") # HW integration\n",
    "\n",
    "\n",
    "\n",
    "\n",
    "\n",
    "#image_file_name = \"0e521b72-651c-4a00-b4b8-2803d3b91f79å1.tif\"\n",
    "#xml_file_name = \"0e521b72-651c-4a00-b4b8-2803d3b91f79å1.txt\"\n",
    "\n",
    "#image_file_name = \"ClaimExtractedImages/0e521b72-651c-4a00-b4b8-2803d3b91f79å1.tif\"\n",
    "#xml_file_name = \"XMLFiles/0e521b72-651c-4a00-b4b8-2803d3b91f79å1.txt\"\n",
    "\n",
    "\n",
    "# page 1\n",
    "image_file_name = \"DestImage/ee3ad7a1-6c98-49f5-b7ee-b25dc190e472$1.tiff\"\n",
    "hocr_file_name = \"XMLFiles/ee3ad7a1-6c98-49f5-b7ee-b25dc190e472$1.hocr\"\n",
    "\n",
    "# page 2\n",
    "#image_file_name = \"Accident-Handwritten_V3_1.jpg\"\n",
    "#hocr_file_name = \"Accident-Handwritten_V3-sandwich-1.hocr\"\n",
    "\n",
    "# page 3\n",
    "#image_file_name = \"Accident-Handwritten_V3_2.jpg\"\n",
    "#hocr_file_name = \"Accident-Handwritten_V3-sandwich-2.hocr\"\n",
    "\n",
    "#  unum-files\n",
    "data = {\"bucket\": 'unum-files', \"hocr_file\": hocr_file_name,\"image_file\":image_file_name}\n",
    "#data = {\"bucket\": 'sagemaker-tables-detector', \"hocr_file\": hocr_file_name,\"image_file\":image_file_name}\n",
    "#data = {\"bucket\": 'sagemaker-tables-detector', \"xml_file\": xml_file_name,\"image_file\":image_file_name}\n",
    "\n",
    "response = predictor.predict(data)\n",
    "#print(response)\n",
    "print(\"there are \",len(response['data']),\"tables in\",hocr_file_name.split(\".\")[0])\n",
    "print(json.dumps(response, sort_keys=True, indent=4).encode('utf-8').decode('utf-8'))\n"
   ]
  },
  {
   "cell_type": "code",
   "execution_count": null,
   "metadata": {},
   "outputs": [],
   "source": [
    "print(len(response['coordinates']))"
   ]
  },
  {
   "cell_type": "code",
   "execution_count": null,
   "metadata": {},
   "outputs": [],
   "source": [
    "response['coordinates']"
   ]
  },
  {
   "cell_type": "code",
   "execution_count": null,
   "metadata": {},
   "outputs": [],
   "source": [
    "import sagemaker\n",
    "from sagemaker import get_execution_role\n",
    "import json\n",
    "import pandas as pd\n",
    "sagemaker_session = sagemaker.Session()\n",
    "\n",
    "role = get_execution_role()\n",
    "\n",
    "from sagemaker.mxnet.model import MXNetModel,MXNetPredictor\n",
    "\n",
    "predictor =MXNetPredictor('sagemaker-mxnet-2018-10-19-19-28-10-154')\n",
    "xml_file_name = \"Accident-Handwritten_V3.xml\"\n",
    "image_file_name = \"Accident-Handwritten_V3.tiff\"\n",
    "\n",
    "data = {\"bucket\": 'sagemaker-tables-detector', \"xml_file\": xml_file_name,\"image_file\":image_file_name}\n",
    "\n",
    "response = predictor.predict(data)\n",
    "#print(response)\n",
    "print(\"there are \",len(response['data']),\"tables in\",xml_file_name.split(\".\")[0])\n",
    "print(json.dumps(response, sort_keys=True, indent=4).encode('utf-8').decode('utf-8'))\n"
   ]
  },
  {
   "cell_type": "code",
   "execution_count": null,
   "metadata": {},
   "outputs": [],
   "source": [
    "import boto3\n",
    "\n",
    "bucket = 'sagemaker-tables-detector'\n",
    "hocr_file_name = parsed['hocr_file']\n",
    "image_file_name = parsed['image_file']\n",
    "\n",
    "image_file_name = \"Accident-Handwritten_V3-0.jpg\"\n",
    "hocr_file_name = \"Accident-Handwritten_V3-sandwich.hocr\"\n",
    "\n",
    "#image_file_name = \"Accident-Handwritten_V3.tiff\"\n",
    "#xml_file_name = \"Accident-Handwritten_V3.xml\"\n",
    "\n",
    "#  unum-files\n",
    "data = {\"bucket\": 'sagemaker-tables-detector', \"hocr_file\": hocr_file_name,\"image_file\":image_file_name}\n",
    "# xml_file_name = \"Accident-Handwritten_V3.xml\"\n",
    "# image_file_name = \"Accident-Handwritten_V3.tiff\"\n",
    "\n",
    "# getting data\n",
    "s3 = boto3.resource('s3', aws_access_key_id='', aws_secret_access_key='')  # new key\n",
    "xml_file_stream = s3.Object(bucket_name=bucket, key=hocr_file_name)\n",
    "image_file_stream = s3.Object(bucket_name=bucket, key=image_file_name)\n",
    "\n",
    "# write from binary stream\n",
    "# xml_file_name = xml_file_name.split('/')[-1]\n",
    "hocr_file_name = 'hocr_file.html'\n",
    "with open(hocr_file_name, 'wb') as f:\n",
    "    f.write(xml_file_stream.get()[\"Body\"].read())\n",
    "\n",
    "# write from binary stream\n",
    "# image_file_name = image_file_name.split('/')[-1]\n",
    "image_file_name = 'image_file_name.tif'\n",
    "with open(image_file_name, 'wb') as f:\n",
    "    f.write(image_file_stream.get()[\"Body\"].read())"
   ]
  }
 ],
 "metadata": {
  "kernelspec": {
   "display_name": "conda_python3",
   "language": "python",
   "name": "conda_python3"
  },
  "language_info": {
   "codemirror_mode": {
    "name": "ipython",
    "version": 3
   },
   "file_extension": ".py",
   "mimetype": "text/x-python",
   "name": "python",
   "nbconvert_exporter": "python",
   "pygments_lexer": "ipython3",
   "version": "3.6.5"
  }
 },
 "nbformat": 4,
 "nbformat_minor": 2
}
