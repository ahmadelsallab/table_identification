{
 "cells": [
  {
   "cell_type": "code",
   "execution_count": 12,
   "metadata": {},
   "outputs": [],
   "source": [
    "import cv2\n",
    "import matplotlib.pyplot as plt\n",
    "import matplotlib.patches as patches\n",
    "import numpy as np\n",
    "from scipy.ndimage.interpolation import shift\n",
    "import os\n",
    "import seaborn as sns\n",
    "%matplotlib inline"
   ]
  },
  {
   "cell_type": "code",
   "execution_count": 13,
   "metadata": {},
   "outputs": [],
   "source": [
    "#dat_path = '../../../dat'DATASETS\\NL 14614829 - Claim File- image 1_Part 1\\Output\n",
    "dat_path = \"../../../dat/DATASETS/NL 14614829 - Claim File- image 1_Part 1/Output\""
   ]
  },
  {
   "cell_type": "code",
   "execution_count": 28,
   "metadata": {},
   "outputs": [],
   "source": [
    "#file_name = 'Page 3.jpg' # OK\n",
    "#file_name = 'Page 5.jpg' # OK\n",
    "file_name = 'Page 7.jpg' # OK\n",
    "#file_name = 'Page 8.jpg' # NOK\n",
    "\n",
    "img_orig = cv2.imread(os.path.join(dat_path, file_name), 0)\n",
    "img = (255 - img_orig)/255"
   ]
  },
  {
   "cell_type": "code",
   "execution_count": 15,
   "metadata": {},
   "outputs": [
    {
     "data": {
      "text/plain": [
       "<matplotlib.image.AxesImage at 0x7fb89b701c88>"
      ]
     },
     "execution_count": 15,
     "metadata": {},
     "output_type": "execute_result"
    },
    {
     "data": {
      "image/png": "[encoded data removed]",
      "text/plain": [
       "<Figure size 432x288 with 1 Axes>"
      ]
     },
     "metadata": {},
     "output_type": "display_data"
    }
   ],
   "source": [
    "plt.imshow(img_orig,cmap='gray')"
   ]
  },
  {
   "cell_type": "code",
   "execution_count": 16,
   "metadata": {},
   "outputs": [
    {
     "data": {
      "text/plain": [
       "(3300, 2550)"
      ]
     },
     "execution_count": 16,
     "metadata": {},
     "output_type": "execute_result"
    }
   ],
   "source": [
    "img.shape"
   ]
  },
  {
   "cell_type": "code",
   "execution_count": 6,
   "metadata": {},
   "outputs": [],
   "source": [
    "def maxpool1D(h, w):\n",
    "    #w = 100\n",
    "    n_w = int(len(h)/w)\n",
    "    h_maxes = np.zeros(len(h))\n",
    "    for i in range(n_w):\n",
    "        #print(i+w)\n",
    "        #print(max(h_all[i*w:(i+1)*w]))\n",
    "        h_maxes[i*w:(i+1)*w] = max(h_all[i*w:(i+1)*w]) \n",
    "    return h_maxes"
   ]
  },
  {
   "cell_type": "code",
   "execution_count": 7,
   "metadata": {},
   "outputs": [],
   "source": [
    " \n",
    "def remove_consecutive(input): \n",
    "    '''\n",
    "    result = input.copy()\n",
    "    last_val = 0\n",
    "    for idx, val in enumerate(input):\n",
    "        if(last_val != 0):\n",
    "            if val == last_val:\n",
    "                result[idx] = 0\n",
    "        if(val == 1 or val == -1):\n",
    "            last_val = val\n",
    "        \n",
    "            \n",
    "    return result\n",
    "    '''\n",
    "    '''\n",
    "    \n",
    "    a = np.int64(input) # bitwise do not work float64   \n",
    "    return a ^ (shift(a, 1, cval=0) & a)        # This won't work, since we need to remove non-alternating 1's or -1's, but not necessarily direct neighbors\n",
    "    '''\n",
    "    \n",
    "    # Get 1's pos\n",
    "    ones = np.squeeze(np.argwhere(input == 1))\n",
    "    # Get -1's pos\n",
    "    neg_ones = np.squeeze(np.argwhere(input == -1))\n",
    "    # Alternate from 1's and -1's. Always start by 1's\n",
    "    result = []\n",
    "    positive = True\n",
    "    next_pos = 0\n",
    "    for i in range(len(ones)):\n",
    "        if positive:\n",
    "            result.append(ones[next_pos])\n",
    "            positive = False\n",
    "            curr_pos = next_pos\n",
    "\n",
    "            next_pos = np.squeeze(np.argwhere(neg_ones > ones[curr_pos])).tolist()# Alternate to the pos in neg_ones > curr_pos value in ones\n",
    "            if isinstance(next_pos, list):\n",
    "                if len(next_pos) > 0:\n",
    "                    next_pos = next_pos[0]\n",
    "                else:\n",
    "                    break\n",
    "            else:\n",
    "                next_pos = next_pos\n",
    "        else:\n",
    "            result.append(neg_ones[next_pos])\n",
    "            positive = True\n",
    "            curr_pos = next_pos\n",
    "\n",
    "            next_pos = np.squeeze(np.argwhere(ones > neg_ones[curr_pos])).tolist()\n",
    "            if isinstance(next_pos, list):\n",
    "                if len(next_pos) > 0:\n",
    "                    next_pos = next_pos[0]\n",
    "                else:\n",
    "                    break\n",
    "            else:\n",
    "                next_pos = next_pos\n",
    "    \n",
    "    mask = np.zeros(len(input), dtype=int)\n",
    "    if(len(result) > 0):\n",
    "        mask[np.array(result)] = input[np.array(result)]\n",
    "\n",
    "    return mask"
   ]
  },
  {
   "cell_type": "code",
   "execution_count": 8,
   "metadata": {},
   "outputs": [],
   "source": [
    "def remove_false_cols(grads):\n",
    "    min_col_width = 50\n",
    "    # Get all posititions of col starts\n",
    "    \n",
    "    col_starts = np.squeeze(np.argwhere(grads==1))\n",
    "    # If dist between 2 1's < min_col_width--> set all to zeros until next 1 pos\n",
    "    prev_pos = col_starts[0]\n",
    "    for idx, pos in enumerate(col_starts):\n",
    "        if idx > 0:\n",
    "            dist = pos - prev_pos\n",
    "            if dist < min_col_width:\n",
    "                if idx + 1 < len(col_starts):\n",
    "                    next_pos = col_starts[idx+1]\n",
    "                    grads[pos:next_pos-1] = 0\n",
    "                else:\n",
    "                    # Suppress all till end\n",
    "                    grads[pos:] = 0\n",
    "\n",
    "    return grads"
   ]
  },
  {
   "cell_type": "code",
   "execution_count": 9,
   "metadata": {},
   "outputs": [],
   "source": [
    "def clean_grads(grads):\n",
    "    # TODO: outliers removal\n",
    "    \n",
    "    # Adaptive threshold = max*ratio\n",
    "    ratio = 0.5\n",
    "    thresh = np.max(grads)*ratio   \n",
    "    \n",
    "    # Filter pos values\n",
    "    filter_pos_idx = np.squeeze(np.argwhere(np.logical_and((grads > 0), (grads <= thresh))))\n",
    "    grads[filter_pos_idx] = 0\n",
    "    \n",
    "    # Filter neg values\n",
    "    filter_neg_idx = np.squeeze(np.argwhere(np.logical_and((grads < 0), (grads >= -thresh))))\n",
    "    grads[filter_neg_idx] = 0\n",
    " \n",
    "    # Normalize thr grads to 1/-1\n",
    "    grads[grads < 0] = -1\n",
    "    grads[grads > 0] = 1\n",
    "\n",
    "    # Remove consecutive 1's or -1's\n",
    "    grads = remove_consecutive(grads)\n",
    "    \n",
    "    return grads"
   ]
  },
  {
   "cell_type": "code",
   "execution_count": 10,
   "metadata": {},
   "outputs": [],
   "source": [
    "def row_pattern_detect(row_grads):\n",
    "    \n",
    "    if len(np.argwhere(row_grads==1)) >= 2:\n",
    "\n",
    "        # If dist between 2 1's < min_col_width--> set all to zeros\n",
    "        row_grads = remove_false_cols(row_grads)\n",
    "\n",
    "        # Count 1's => 2\n",
    "        if len(np.argwhere(row_grads==1)) >= 2:\n",
    "            col_positions = np.squeeze(np.argwhere(row_grads==1))                   \n",
    "        else:\n",
    "            col_positions = []\n",
    "    else:\n",
    "        col_positions = []\n",
    "    \n",
    "    return col_positions\n",
    "    "
   ]
  },
  {
   "cell_type": "code",
   "execution_count": 11,
   "metadata": {
    "scrolled": false
   },
   "outputs": [],
   "source": [
    "\n",
    "strip_height = 50\n",
    "H, W = img.shape\n",
    "n_strips = int(np.floor(H/strip_height))\n",
    "\n",
    "tables = []\n",
    "table_info = {}\n",
    "table_registered = False\n",
    "table_ended = 0\n",
    "#borders = []\n",
    "img_borders = np.zeros([n_strips * strip_height, W])\n",
    "for i in range(n_strips):\n",
    "    start = i*strip_height\n",
    "    end = start + strip_height\n",
    "    \n",
    "    # 1. Img strip\n",
    "    img_strip = img[start:end, :]  \n",
    "    # 2. Histo projection\n",
    "    h_all = np.sum(img_strip, axis=0)\n",
    "    # 3. Maxpool1D\n",
    "    h_maxes = maxpool1D(h_all, w=200)\n",
    "    # 4. Gradients\n",
    "    g = np.gradient(h_maxes)\n",
    "    # 5. Clean grads\n",
    "    g_clean = clean_grads(g)\n",
    "\n",
    "    col_positions = row_pattern_detect(g_clean)\n",
    "    if table_registered == False:\n",
    "        if len(col_positions) > 0:      \n",
    "            table_info['table_start'] = start\n",
    "            table_info['col_positions'] = col_positions\n",
    "            table_registered = True\n",
    "            color = 'b'\n",
    "        else:\n",
    "            color = 'r'\n",
    "            \n",
    "    else:\n",
    "        if table_registered == True:\n",
    "            if len(col_positions) == 0:\n",
    "                table_ended += 1\n",
    "                if table_ended >= 2:\n",
    "                    table_info['table_end'] = end\n",
    "                    tables.append(table_info)\n",
    "                    table_info = {}\n",
    "                    table_registered = False\n",
    "                    table_ended = 0                    \n",
    "    \n",
    "    #borders.append(np.tile(g_clean,strip_height).reshape(strip_height,len(g_clean)))\n",
    "    g_clean[g_clean < 0] = 0\n",
    "    img_borders[start:end, :] = np.tile(g_clean,strip_height).reshape(strip_height,len(g_clean))                    \n",
    "    \n",
    "    '''\n",
    "    fig = plt.figure()    \n",
    "    # Show the orig image with the strip on col 1\n",
    "    ax = fig.add_subplot(211)\n",
    "    rect = patches.Rectangle((0,end), W, strip_height,linewidth=1,edgecolor=color,facecolor='none')\n",
    "    n_cols = len(col_positions)\n",
    "    ax.add_patch(rect)\n",
    "    ax.text(10,10,str(n_cols))\n",
    "    ax.imshow(img_orig, cmap='gray')\n",
    "\n",
    "    # Show next the cleaned up grad or histogram\n",
    "    ax = fig.add_subplot(221)\n",
    "    ax.plot(g_clean)\n",
    "    '''\n",
    "    \n",
    "    #ax.imshow(img_borders[start:end, :])\n",
    "\n",
    "    \n",
    "    \n",
    "    \n"
   ]
  },
  {
   "cell_type": "code",
   "execution_count": 12,
   "metadata": {},
   "outputs": [
    {
     "data": {
      "text/plain": [
       "<matplotlib.image.AxesImage at 0x7f1be2994da0>"
      ]
     },
     "execution_count": 12,
     "metadata": {},
     "output_type": "execute_result"
    },
    {
     "data": {
      "image/png": "[encoded data removed]",
      "text/plain": [
       "<Figure size 432x288 with 1 Axes>"
      ]
     },
     "metadata": {},
     "output_type": "display_data"
    }
   ],
   "source": [
    "plt.imshow(255 - img_borders,cmap='gray')"
   ]
  },
  {
   "cell_type": "code",
   "execution_count": 13,
   "metadata": {},
   "outputs": [
    {
     "data": {
      "text/plain": [
       "\"\\nlen(borders)\\nborders[60].shape\\nimg_borders = np.zeros([len(borders) * borders[0].shape[0], borders[0].shape[1]])\\nimg_borders[100:200, :] = 1\\nplt.imshow(img_borders,cmap='gray')\\n\""
      ]
     },
     "execution_count": 13,
     "metadata": {},
     "output_type": "execute_result"
    }
   ],
   "source": [
    "'''\n",
    "len(borders)\n",
    "borders[60].shape\n",
    "img_borders = np.zeros([len(borders) * borders[0].shape[0], borders[0].shape[1]])\n",
    "img_borders[100:200, :] = 1\n",
    "plt.imshow(img_borders,cmap='gray')\n",
    "'''"
   ]
  },
  {
   "cell_type": "code",
   "execution_count": 14,
   "metadata": {},
   "outputs": [
    {
     "data": {
      "text/plain": [
       "[{'table_start': 500, 'col_positions': array([199, 999]), 'table_end': 850},\n",
       " {'table_start': 950, 'col_positions': array([199, 999]), 'table_end': 1200}]"
      ]
     },
     "execution_count": 14,
     "metadata": {},
     "output_type": "execute_result"
    }
   ],
   "source": [
    "tables"
   ]
  },
  {
   "cell_type": "code",
   "execution_count": 15,
   "metadata": {},
   "outputs": [
    {
     "data": {
      "image/png": "[encoded data removed]",
      "text/plain": [
       "<Figure size 432x288 with 1 Axes>"
      ]
     },
     "metadata": {},
     "output_type": "display_data"
    }
   ],
   "source": [
    "#tables_img = np.ones(img.shape)\n",
    "tables_img = img_orig\n",
    "#plt.imshow(tables_img, cmap='gray')\n",
    "#start = (199, 1250)\n",
    "#end = (199, 1900)\n",
    "#for table in tables:\n",
    "line_width = 10\n",
    "#tables_img[start[1]:end[1], start[0]-line_width:start[0]+line_width] = 0\n",
    "#plt.imshow(tables_img, cmap='gray')\n",
    "\n",
    "for table in tables:\n",
    "    table_start = table['table_start']\n",
    "    table_end = table['table_end']\n",
    "    # Last colomn boundary = min(img_boundary, last_col_start + spacing of the previous colomn)\n",
    "    #last_col = min(tables_img.shape[1], table['col_positions'][-1] + (table['col_positions'][-1] - table['col_positions'][-2]))\n",
    "    last_col = tables_img.shape[1] - table['col_positions'][0]\n",
    "    # Draw table boundaries\n",
    "    tables_img[table_start-line_width:table_start+line_width, table['col_positions'][0] : last_col] = 0\n",
    "    tables_img[table_end-line_width:table_end+line_width, table['col_positions'][0] : last_col] = 0\n",
    "    # Draw cols\n",
    "    for col in table['col_positions']:\n",
    "        \n",
    "        tables_img[table_start:table_end, col-line_width:col+line_width] = 0\n",
    "    # Left boundary\n",
    "    tables_img[table_start:table_end, last_col-line_width:last_col+line_width] = 0\n",
    "plt.imshow(tables_img, cmap='gray')\n",
    "plt.imsave(file_name + '_table.jpg', tables_img, cmap='gray')"
   ]
  },
  {
   "cell_type": "code",
   "execution_count": 24,
   "metadata": {},
   "outputs": [],
   "source": [
    "class TableDetector:\n",
    "\n",
    "    def __init__(self):\n",
    "        self.state = 'Table_Search'\n",
    "        self.state_machine = {'Table_Search':self.table_search, \n",
    "                              'Candidate_Table': self.candidate_table, \n",
    "                              'Table_Registered':self.table_registered, \n",
    "                              'Confirm_Table_End':self.confirm_table_end}\n",
    "        self.tables = []\n",
    "        self.reset_table_info()\n",
    "        self.strip_height = 50\n",
    "        self.w_max_pool = 200\n",
    "        self.min_col_width = 50\n",
    "        self.ratio_clip_max = 0.5\n",
    "        \n",
    "    def reset_table_info(self):\n",
    "        \n",
    "        self.table_info = {}\n",
    "        self.col_positions = []\n",
    "        \n",
    "    def table_search(self):\n",
    "        print('Table_Search')\n",
    "        if len(self.col_positions) > 0:      \n",
    "            self.state = 'Candidate_Table'\n",
    "            self.table_info['table_start'] = self.start\n",
    "            self.table_info['col_positions'] = self.col_positions\n",
    "            \n",
    "        return\n",
    "    \n",
    "    def candidate_table(self):\n",
    "        print('Candidate_Table')\n",
    "        if len(self.col_positions) > 0:      \n",
    "            self.state = 'Table_Registered'\n",
    "        else:\n",
    "            self.state = 'Table_Search'\n",
    "            self.reset_table_info()\n",
    "        return\n",
    "    \n",
    "    def table_registered(self):\n",
    "        print('Table_Registered')\n",
    "        if len(self.col_positions) == 0:\n",
    "            self.state = 'Confirm_Table_End'\n",
    "        return\n",
    "    \n",
    "    def confirm_table_end(self):\n",
    "        print('Confirm_Table_End')\n",
    "        if len(self.col_positions) == 0:\n",
    "            self.state = 'Table_Search'\n",
    "            self.table_info['table_end'] = self.end\n",
    "            self.tables.append(self.table_info)\n",
    "            self.reset_table_info()\n",
    "        else:\n",
    "            self.state = 'Table_Registered'\n",
    "        return\n",
    "    \n",
    "    def remove_false_cols(self, grads):\n",
    "        self.min_col_width = 50\n",
    "        # Get all posititions of col starts\n",
    "\n",
    "        col_starts = np.squeeze(np.argwhere(grads==1))\n",
    "        # If dist between 2 1's < min_col_width--> set all to zeros until next 1 pos\n",
    "        prev_pos = col_starts[0]\n",
    "        for idx, pos in enumerate(col_starts):\n",
    "            if idx > 0:\n",
    "                dist = pos - prev_pos\n",
    "                if dist < self.min_col_width:\n",
    "                    if idx + 1 < len(col_starts):\n",
    "                        next_pos = col_starts[idx+1]\n",
    "                        grads[pos:next_pos-1] = 0\n",
    "                    else:\n",
    "                        # Suppress all till end\n",
    "                        grads[pos:] = 0\n",
    "\n",
    "        return grads   \n",
    " \n",
    "    def remove_consecutive(self, input): \n",
    "        # Get 1's pos\n",
    "        ones = np.squeeze(np.argwhere(input == 1))\n",
    "        # Get -1's pos\n",
    "        neg_ones = np.squeeze(np.argwhere(input == -1))\n",
    "        # Alternate from 1's and -1's. Always start by 1's\n",
    "        result = []\n",
    "        positive = True\n",
    "        next_pos = 0\n",
    "        for i in range(len(ones)):\n",
    "            if positive:\n",
    "                result.append(ones[next_pos])\n",
    "                positive = False\n",
    "                curr_pos = next_pos\n",
    "\n",
    "                next_pos = np.squeeze(np.argwhere(neg_ones > ones[curr_pos])).tolist()# Alternate to the pos in neg_ones > curr_pos value in ones\n",
    "                if isinstance(next_pos, list):\n",
    "                    if len(next_pos) > 0:\n",
    "                        next_pos = next_pos[0]\n",
    "                    else:\n",
    "                        break\n",
    "                else:\n",
    "                    next_pos = next_pos\n",
    "            else:\n",
    "                result.append(neg_ones[next_pos])\n",
    "                positive = True\n",
    "                curr_pos = next_pos\n",
    "\n",
    "                next_pos = np.squeeze(np.argwhere(ones > neg_ones[curr_pos])).tolist()\n",
    "                if isinstance(next_pos, list):\n",
    "                    if len(next_pos) > 0:\n",
    "                        next_pos = next_pos[0]\n",
    "                    else:\n",
    "                        break\n",
    "                else:\n",
    "                    next_pos = next_pos\n",
    "\n",
    "        mask = np.zeros(len(input), dtype=int)\n",
    "        if(len(result) > 0):\n",
    "            mask[np.array(result)] = input[np.array(result)]\n",
    "\n",
    "        return mask \n",
    "    \n",
    "    def maxpool1D(self, h, w):\n",
    "        #w = 100\n",
    "        n_w = int(len(h)/w)\n",
    "        h_maxes = np.zeros(len(h))\n",
    "        for i in range(n_w):\n",
    "            #print(i+w)\n",
    "            #print(max(h_all[i*w:(i+1)*w]))\n",
    "            h_maxes[i*w:(i+1)*w] = max(h[i*w:(i+1)*w]) \n",
    "            \n",
    "        return h_maxes    \n",
    "    \n",
    "    def clean_grads(self, grads):\n",
    "        # TODO: outliers removal\n",
    "\n",
    "        # Adaptive threshold = max*ratio       \n",
    "        thresh = np.max(grads)*self.ratio_clip_max   \n",
    "\n",
    "        # Filter pos values\n",
    "        filter_pos_idx = np.squeeze(np.argwhere(np.logical_and((grads > 0), (grads <= thresh))))\n",
    "        grads[filter_pos_idx] = 0\n",
    "\n",
    "        # Filter neg values\n",
    "        filter_neg_idx = np.squeeze(np.argwhere(np.logical_and((grads < 0), (grads >= -thresh))))\n",
    "        grads[filter_neg_idx] = 0\n",
    "\n",
    "        # Normalize thr grads to 1/-1\n",
    "        grads[grads < 0] = -1\n",
    "        grads[grads > 0] = 1\n",
    "\n",
    "        # Remove consecutive 1's or -1's\n",
    "        grads = self.remove_consecutive(grads)\n",
    "\n",
    "        return grads    \n",
    "    def preprocess_row(self, img_strip):\n",
    "\n",
    "        # 1. Histo projection\n",
    "        h_all = np.sum(img_strip, axis=0)\n",
    "        # 2. Maxpool1D\n",
    "        h_maxes = self.maxpool1D(h_all, w=self.w_max_pool)\n",
    "        # 3. Gradients\n",
    "        g = np.gradient(h_maxes)\n",
    "        # 4. Clean grads\n",
    "        g_clean = self.clean_grads(g)   \n",
    "        \n",
    "        return g_clean\n",
    "    \n",
    "    def check_row_pattern(self, row_grads):\n",
    "\n",
    "        if len(np.argwhere(row_grads==1)) >= 2:\n",
    "\n",
    "            # If dist between 2 1's < min_col_width--> set all to zeros\n",
    "            row_grads = self.remove_false_cols(row_grads)\n",
    "\n",
    "            # Count 1's => 2\n",
    "            if len(np.argwhere(row_grads==1)) >= 2:\n",
    "                col_positions = np.squeeze(np.argwhere(row_grads==1))                   \n",
    "            else:\n",
    "                col_positions = []\n",
    "        else:\n",
    "            col_positions = []\n",
    "\n",
    "        return col_positions\n",
    "    \n",
    "    def row_pattern_detect(self, img_strip):\n",
    "        g_clean = self.preprocess_row(img_strip)\n",
    "        col_positions = self.check_row_pattern(g_clean)\n",
    "        return col_positions\n",
    "    \n",
    "    def run(self, img):\n",
    "        H, W = img.shape\n",
    "        n_strips = int(np.floor(H/self.strip_height))\n",
    "        \n",
    "        for i in range(n_strips):\n",
    "            self.start = i*self.strip_height\n",
    "            self.end = self.start + self.strip_height\n",
    "            img_strip = img[self.start:self.end, :] \n",
    "            self.col_positions = self.row_pattern_detect(img_strip)\n",
    "            self.state_machine[self.state]()\n",
    "            \n",
    "        return self.tables\n",
    "   \n",
    "   \n",
    "    \n"
   ]
  },
  {
   "cell_type": "code",
   "execution_count": 29,
   "metadata": {},
   "outputs": [
    {
     "name": "stdout",
     "output_type": "stream",
     "text": [
      "Table_Search\n",
      "Table_Search\n",
      "Table_Search\n",
      "Table_Search\n",
      "Table_Search\n",
      "Table_Search\n",
      "Table_Search\n",
      "Table_Search\n",
      "Table_Search\n",
      "Table_Search\n",
      "Table_Search\n",
      "Table_Search\n",
      "Candidate_Table\n",
      "Table_Search\n",
      "Table_Search\n",
      "Table_Search\n",
      "Table_Search\n",
      "Table_Search\n",
      "Table_Search\n",
      "Table_Search\n",
      "Table_Search\n",
      "Table_Search\n",
      "Table_Search\n",
      "Table_Search\n",
      "Table_Search\n",
      "Table_Search\n",
      "Candidate_Table\n",
      "Table_Registered\n",
      "Table_Registered\n",
      "Table_Registered\n",
      "Table_Registered\n",
      "Table_Registered\n",
      "Table_Registered\n",
      "Table_Registered\n",
      "Table_Registered\n",
      "Table_Registered\n",
      "Table_Registered\n",
      "Confirm_Table_End\n",
      "Table_Search\n",
      "Table_Search\n",
      "Table_Search\n",
      "Table_Search\n",
      "Table_Search\n",
      "Table_Search\n",
      "Table_Search\n",
      "Table_Search\n",
      "Table_Search\n",
      "Table_Search\n",
      "Table_Search\n",
      "Table_Search\n",
      "Table_Search\n",
      "Table_Search\n",
      "Table_Search\n",
      "Table_Search\n",
      "Table_Search\n",
      "Table_Search\n",
      "Table_Search\n",
      "Table_Search\n",
      "Table_Search\n",
      "Table_Search\n",
      "Table_Search\n",
      "Table_Search\n",
      "Table_Search\n",
      "Table_Search\n",
      "Table_Search\n",
      "Table_Search\n"
     ]
    }
   ],
   "source": [
    "tables_detector = TableDetector()\n",
    "tables = tables_detector.run(img)"
   ]
  },
  {
   "cell_type": "code",
   "execution_count": 30,
   "metadata": {},
   "outputs": [
    {
     "data": {
      "text/plain": [
       "[{'table_start': 1250,\n",
       "  'col_positions': array([ 199,  799, 1799]),\n",
       "  'table_end': 1900}]"
      ]
     },
     "execution_count": 30,
     "metadata": {},
     "output_type": "execute_result"
    }
   ],
   "source": [
    "tables"
   ]
  },
  {
   "cell_type": "code",
   "execution_count": 31,
   "metadata": {},
   "outputs": [
    {
     "data": {
      "image/png": "[encoded data removed]",
      "text/plain": [
       "<Figure size 432x288 with 1 Axes>"
      ]
     },
     "metadata": {},
     "output_type": "display_data"
    }
   ],
   "source": [
    "#tables_img = np.ones(img.shape)\n",
    "tables_img = img_orig\n",
    "#plt.imshow(tables_img, cmap='gray')\n",
    "#start = (199, 1250)\n",
    "#end = (199, 1900)\n",
    "#for table in tables:\n",
    "line_width = 10\n",
    "#tables_img[start[1]:end[1], start[0]-line_width:start[0]+line_width] = 0\n",
    "#plt.imshow(tables_img, cmap='gray')\n",
    "\n",
    "for table in tables:\n",
    "    table_start = table['table_start']\n",
    "    table_end = table['table_end']\n",
    "    # Last colomn boundary = min(img_boundary, last_col_start + spacing of the previous colomn)\n",
    "    #last_col = min(tables_img.shape[1], table['col_positions'][-1] + (table['col_positions'][-1] - table['col_positions'][-2]))\n",
    "    last_col = tables_img.shape[1] - table['col_positions'][0]\n",
    "    # Draw table boundaries\n",
    "    tables_img[table_start-line_width:table_start+line_width, table['col_positions'][0] : last_col] = 0\n",
    "    tables_img[table_end-line_width:table_end+line_width, table['col_positions'][0] : last_col] = 0\n",
    "    # Draw cols\n",
    "    for col in table['col_positions']:\n",
    "        \n",
    "        tables_img[table_start:table_end, col-line_width:col+line_width] = 0\n",
    "    # Left boundary\n",
    "    tables_img[table_start:table_end, last_col-line_width:last_col+line_width] = 0\n",
    "plt.imshow(tables_img, cmap='gray')\n",
    "plt.imsave(file_name + '_table.jpg', tables_img, cmap='gray')"
   ]
  }
 ],
 "metadata": {
  "kernelspec": {
   "display_name": "Python 3",
   "language": "python",
   "name": "python3"
  },
  "language_info": {
   "codemirror_mode": {
    "name": "ipython",
    "version": 3
   },
   "file_extension": ".py",
   "mimetype": "text/x-python",
   "name": "python",
   "nbconvert_exporter": "python",
   "pygments_lexer": "ipython3",
   "version": "3.6.5"
  }
 },
 "nbformat": 4,
 "nbformat_minor": 2
}
