{
 "cells": [
  {
   "cell_type": "code",
   "execution_count": 1,
   "metadata": {},
   "outputs": [],
   "source": [
    "import cv2\n",
    "import matplotlib.pyplot as plt\n",
    "import matplotlib.patches as patches\n",
    "import numpy as np\n",
    "from scipy.ndimage.interpolation import shift\n",
    "import os\n",
    "import seaborn as sns\n",
    "import json\n",
    "%matplotlib inline"
   ]
  },
  {
   "cell_type": "code",
   "execution_count": 2,
   "metadata": {},
   "outputs": [],
   "source": [
    "class TableDetector:\n",
    "\n",
    "    def __init__(self, verbose=False, strip_height=50, w_max_pool=50, min_col_width=50, ratio_clip_max=0.8):\n",
    "        self.verbose = verbose\n",
    "        self.state = 'Table_Search'\n",
    "        self.state_machine = {'Table_Search':self.table_search, \n",
    "                              'Candidate_Table': self.candidate_table, \n",
    "                              'Table_Registered':self.table_registered, \n",
    "                              'Confirm_Table_End':self.confirm_table_end}\n",
    "        self.tables = []\n",
    "        self.reset_table_info()\n",
    "        self.strip_height = strip_height\n",
    "        self.w_max_pool = w_max_pool\n",
    "        self.min_col_width = min_col_width\n",
    "        self.ratio_clip_max = ratio_clip_max\n",
    "        \n",
    "    def reset_table_info(self):\n",
    "        \n",
    "        self.table_info = {}\n",
    "        self.col_positions = []\n",
    "        \n",
    "    def table_search(self):\n",
    "        '''\n",
    "        if(self.verbose):\n",
    "            print('Table_Search')\n",
    "        '''\n",
    "        if len(self.col_positions) > 0:      \n",
    "            self.state = 'Candidate_Table'\n",
    "            self.table_info['table_start'] = self.start\n",
    "            self.table_info['col_positions'] = self.col_positions\n",
    "            self.n_cols = len(self.col_positions)\n",
    "            \n",
    "        return\n",
    "    \n",
    "    def candidate_table(self):\n",
    "        '''\n",
    "        if(self.verbose):\n",
    "            print('Candidate_Table')\n",
    "        '''\n",
    "        if len(self.col_positions) > 0:# and len(self.col_positions) == self.n_cols:      \n",
    "            self.state = 'Table_Registered'\n",
    "        else:\n",
    "            self.state = 'Table_Search'\n",
    "            self.reset_table_info()\n",
    "        return\n",
    "    \n",
    "    def table_registered(self):\n",
    "        '''\n",
    "        if(self.verbose):\n",
    "            print('Table_Registered')\n",
    "        '''\n",
    "        if len(self.col_positions) == 0:# or len(self.col_positions) != self.n_cols:\n",
    "        #if len(self.col_positions) == 0:\n",
    "            self.table_info['table_end'] = self.end\n",
    "            self.state = 'Confirm_Table_End'\n",
    "        return\n",
    "    def confirm_table_end(self):\n",
    "        '''\n",
    "        if(self.verbose):\n",
    "            print('Confirm_Table_End')\n",
    "        '''\n",
    "        if len(self.col_positions) == 0:# or len(self.col_positions) != self.n_cols:\n",
    "        #if len(self.col_positions) != self.n_cols:\n",
    "            self.state = 'Table_Search'\n",
    "            \n",
    "            self.tables.append(self.table_info)\n",
    "            self.reset_table_info()\n",
    "        else:\n",
    "            self.state = 'Table_Registered'\n",
    "        return\n",
    "    \n",
    "    def remove_false_cols(self, grads):\n",
    "        #self.min_col_width = 50\n",
    "        # Get all posititions of col starts\n",
    "\n",
    "        col_starts = np.squeeze(np.argwhere(grads==1))\n",
    "        # If dist between 2 1's < min_col_width--> set all to zeros until next 1 pos\n",
    "        prev_pos = col_starts[0]\n",
    "        for idx, pos in enumerate(col_starts):\n",
    "            if idx > 0:\n",
    "                dist = pos - prev_pos\n",
    "\n",
    "                if dist < self.min_col_width:  \n",
    "                    grads[pos] = 0\n",
    "                else:                   \n",
    "                    prev_pos = pos\n",
    "\n",
    "        return grads   \n",
    "    \n",
    "    def remove_outliers(self, arr):\n",
    "        arr[np.abs(arr-np.mean(arr)) > (3*np.std(arr))] = 0\n",
    "        return arr\n",
    "    \n",
    "    def remove_consecutive(self, input): \n",
    "        # Get 1's pos\n",
    "        ones = np.squeeze(np.argwhere(input == 1))\n",
    "        # Get -1's pos\n",
    "        neg_ones = np.squeeze(np.argwhere(input == -1))\n",
    "        # Alternate from 1's and -1's. Always start by 1's\n",
    "        result = []\n",
    "        positive = True\n",
    "        next_pos = 0\n",
    "        for i in range(len(ones)):\n",
    "            if positive:\n",
    "                result.append(ones[next_pos])\n",
    "                positive = False\n",
    "                curr_pos = next_pos\n",
    "\n",
    "                next_pos = np.squeeze(np.argwhere(neg_ones > ones[curr_pos])).tolist()# Alternate to the pos in neg_ones > curr_pos value in ones\n",
    "                if isinstance(next_pos, list):\n",
    "                    if len(next_pos) > 0:\n",
    "                        next_pos = next_pos[0]\n",
    "                    else:\n",
    "                        break\n",
    "                else:\n",
    "                    next_pos = next_pos\n",
    "            else:\n",
    "                result.append(neg_ones[next_pos])\n",
    "                positive = True\n",
    "                curr_pos = next_pos\n",
    "\n",
    "                next_pos = np.squeeze(np.argwhere(ones > neg_ones[curr_pos])).tolist()\n",
    "                if isinstance(next_pos, list):\n",
    "                    if len(next_pos) > 0:\n",
    "                        next_pos = next_pos[0]\n",
    "                    else:\n",
    "                        break\n",
    "                else:\n",
    "                    next_pos = next_pos\n",
    "\n",
    "        mask = np.zeros(len(input), dtype=int)\n",
    "        if(len(result) > 0):\n",
    "            mask[np.array(result)] = input[np.array(result)]\n",
    "\n",
    "        return mask \n",
    "    \n",
    "    def maxpool1D(self, h, w):\n",
    "        max_thresh = 3\n",
    "        n_w = int(len(h)/w)\n",
    "        h_maxes = np.zeros(len(h))\n",
    "        for i in range(n_w):\n",
    "\n",
    "            #h_maxes[i*w:(i+1)*w] = np.mean(h[i*w:(i+1)*w])\n",
    "            #h_maxes[i*w:(i+1)*w] = max(h[i*w:(i+1)*w]) \n",
    "            \n",
    "            local_max = max(h[i*w:(i+1)*w])\n",
    "            if(local_max > max_thresh):\n",
    "                h_maxes[i*w:(i+1)*w] = max(h[i*w:(i+1)*w]) \n",
    "            else:\n",
    "                h_maxes[i*w:(i+1)*w] = 0\n",
    "            \n",
    "        return h_maxes    \n",
    "    \n",
    "    def zero_crossings(self, h_maxes):\n",
    "        res = 0 * h_maxes\n",
    "        pos = h_maxes > 0\n",
    "        pos2neg_positions = (~pos[:-1] & pos[1:]).nonzero()[0]\n",
    "        neg2pos_positions = (pos[:-1] & ~pos[1:]).nonzero()[0]\n",
    "        res[pos2neg_positions] = 1\n",
    "        res[neg2pos_positions] = -1\n",
    "        return res\n",
    "    \n",
    "    def clean_grads(self, grads):\n",
    "        # TODO: outliers removal\n",
    "        #grads[np.abs(grads-np.mean(grads)) > (3*np.std(grads))] = 0\n",
    "        #grads = self.remove_outliers(grads)\n",
    "        \n",
    "        # Adaptive threshold = max*ratio       \n",
    "        thresh = np.max(grads)*self.ratio_clip_max   \n",
    "        global_thresh = 2\n",
    "        \n",
    "        #grads[grads < global_thresh] = 0\n",
    "        \n",
    "        # Filter pos values\n",
    "        filter_pos_idx = np.squeeze(np.argwhere(np.logical_and((grads > 0), (grads <= thresh))))\n",
    "        grads[filter_pos_idx] = 0\n",
    "\n",
    "        # Filter neg values\n",
    "        filter_neg_idx = np.squeeze(np.argwhere(np.logical_and((grads < 0), (grads >= -thresh))))\n",
    "        grads[filter_neg_idx] = 0\n",
    "\n",
    "        # Normalize thr grads to 1/-1\n",
    "        grads[grads < 0] = -1\n",
    "        grads[grads > 0] = 1\n",
    "\n",
    "        # Remove consecutive 1's or -1's\n",
    "        grads = self.remove_consecutive(grads)\n",
    "\n",
    "        return grads  \n",
    "    \n",
    "    def preprocess_row(self, img_strip):\n",
    "\n",
    "        # 1. Histo projection\n",
    "        h_all = np.sum(img_strip, axis=0)\n",
    "        h_all = self.remove_outliers(h_all)\n",
    "        # 2. Maxpool1D\n",
    "        h_maxes = self.maxpool1D(h_all, w=self.w_max_pool)\n",
    "        #h_maxes = self.remove_outliers(h_maxes)\n",
    "        # 3. Gradients\n",
    "        g = np.gradient(h_maxes)\n",
    "        # 4. Clean grads\n",
    "        g_clean = self.clean_grads(g.copy())   \n",
    "        \n",
    "        #g_clean = g\n",
    "        if verbose:\n",
    "            self.h = h_maxes.copy()\n",
    "            #self.g = g_clean.copy()\n",
    "            self.g = g_clean.copy()\n",
    "            \n",
    "        \n",
    "        return g_clean\n",
    "    \n",
    "    def check_row_pattern(self, row_grads):\n",
    "        #self.g = 0*row_grads.copy()\n",
    "        if len(np.argwhere(row_grads==1)) >= 2:\n",
    "\n",
    "            # If dist between 2 1's < min_col_width--> set all to zeros\n",
    "            row_grads = self.remove_false_cols(row_grads)\n",
    "            #self.g = row_grads.copy()\n",
    "            # Count 1's => 2\n",
    "            if len(np.argwhere(row_grads==1)) >= 2:\n",
    "                col_positions = np.squeeze(np.argwhere(row_grads==1))                   \n",
    "\n",
    "            else:\n",
    "                col_positions = []\n",
    "        else:\n",
    "            col_positions = []\n",
    "\n",
    "        return col_positions\n",
    "    \n",
    "    def row_pattern_detect(self, img_strip):\n",
    "        g_clean = self.preprocess_row(img_strip)\n",
    "        col_positions = self.check_row_pattern(g_clean)\n",
    "\n",
    "        self.col_positions = col_positions.copy()\n",
    "\n",
    "        return col_positions\n",
    "    \n",
    "    def adjust_tables_boundaries(self, img):\n",
    "        H, W = img.shape\n",
    "        \n",
    "        for table in self.tables:\n",
    "            table['table_start'] = table['table_start'] - self.strip_height\n",
    "            table['table_end'] = table['table_end'] - self.strip_height\n",
    "            last_col = W - table['col_positions'][0]\n",
    "            table['col_positions'] = np.append(table['col_positions'], last_col)\n",
    "        \n",
    "        return tables\n",
    "    \n",
    "    def run(self, img):\n",
    "        \n",
    "        H, W = img.shape\n",
    "        n_strips = int(np.floor(H/self.strip_height))\n",
    "        #overlap = 0.5\n",
    "        \n",
    "        for i in range(n_strips):\n",
    "            self.start = i*self.strip_height\n",
    "            self.end = self.start + self.strip_height\n",
    "            img_strip = img[self.start:self.end, :] \n",
    "            col_positions = self.row_pattern_detect(img_strip)\n",
    "            self.state_machine[self.state]()\n",
    "            if self.verbose:\n",
    "                fig = plt.figure()    \n",
    "                # Show the orig image with the strip on col 1\n",
    "                ax = fig.add_axes([0,0,1,1])\n",
    "                rect = patches.Rectangle((0,self.start), W, self.strip_height, linewidth=1, edgecolor='r', facecolor='none')\n",
    "                \n",
    "                \n",
    "                ax.add_patch(rect)\n",
    "                \n",
    "                ax.imshow(img_orig, cmap='gray')\n",
    "                fig.savefig('images/' + file_name + '_image_stip_' + str(i) + '_table.jpg')\n",
    "                #fig.clf()\n",
    "                \n",
    "                fig = plt.figure()    \n",
    "                ax = fig.add_subplot(211)\n",
    "                n_cols = len(col_positions)\n",
    "                ax.text(10,0,self.state + ', n_cols: ' + str(col_positions))#str(n_cols))\n",
    "                #ax.text(10,100,str(col_positions))\n",
    "                ax.plot(self.h)    \n",
    "                # Show next the cleaned up grad or histogram\n",
    "                ax = fig.add_subplot(212)\n",
    "                ax.plot(self.g)    \n",
    "                #plt.imsave(file_name + '_' + str(i) + '_table.jpg', fig, cmap='gray')\n",
    "                fig.savefig('plots/' + file_name + '_plots_' + str(i) + '_table.jpg')\n",
    "                #fig.savefig(file_name + '_' + str(i) + '_table.jpg')\n",
    "                #fig.clf()\n",
    "        \n",
    "        self.tables = self.adjust_tables_boundaries(img)\n",
    "        \n",
    "        return self.tables\n",
    "   \n",
    "    def visualize_tables(self, img_orig, file_name):\n",
    "        tables = self.tables\n",
    "        tables_img = img_orig\n",
    "        line_width = 10\n",
    "        fig = plt.figure()\n",
    "        for table in tables:\n",
    "            #table_start = table['table_start'] - self.strip_height\n",
    "            #table_end = table['table_end'] - self.strip_height\n",
    "            table_start = table['table_start'] - self.strip_height\n",
    "            table_end = table['table_end'] - self.strip_height\n",
    "            # Last colomn boundary = min(img_boundary, last_col_start + spacing of the previous colomn)\n",
    "            #last_col = min(tables_img.shape[1], table['col_positions'][-1] + (table['col_positions'][-1] - table['col_positions'][-2]))\n",
    "            last_col = tables_img.shape[1] - table['col_positions'][0]\n",
    "            # Draw table boundaries\n",
    "            tables_img[table_start-line_width:table_start+line_width, table['col_positions'][0] : last_col] = 0\n",
    "            tables_img[table_end-line_width:table_end+line_width, table['col_positions'][0] : last_col] = 0\n",
    "            # Draw cols\n",
    "            for col in table['col_positions']:\n",
    "\n",
    "                tables_img[table_start:table_end, col-line_width:col+line_width] = 0\n",
    "            # Left boundary\n",
    "            tables_img[table_start:table_end, last_col-line_width:last_col+line_width] = 0\n",
    "        plt.imshow(tables_img, cmap='gray')\n",
    "        plt.imsave(file_name + '_table.jpg', tables_img, cmap='gray')      \n",
    "        return\n",
    "    \n",
    "    def save_json(self, file_name):\n",
    "            \n",
    "        output_file = open(file_name + '.json', 'w')\n",
    "        for table in self.tables:\n",
    "            print(table)\n",
    "            json.dump(table, output_file) \n",
    "            output_file.write(\"\\n\")  \n",
    "            \n",
    "        return    \n",
    "       "
   ]
  },
  {
   "cell_type": "code",
   "execution_count": 3,
   "metadata": {},
   "outputs": [],
   "source": [
    "\n",
    "#dat_path = \"../../../dat/DATASETS/NL 14614829 - Claim File- image 1_Part 1/Output\"\n",
    "dat_path = \"../../../dat\""
   ]
  },
  {
   "cell_type": "code",
   "execution_count": 4,
   "metadata": {},
   "outputs": [],
   "source": [
    "#file_name = 'Page 3.jpg' # OK\n",
    "#file_name = 'Page 5.jpg' # OK\n",
    "#file_name = 'Page 7.jpg' # OK\n",
    "#file_name = 'Page 8.jpg' # NOK\n",
    "file_name = 'Page 3.tiff' # NOK\n",
    "#file_name = 'Page 3_mod.tiff' # NOK\n",
    "#file_name = 'Page 3_mod_no_table.tiff' # NOK\n",
    "\n",
    "img_orig = cv2.imread(os.path.join(dat_path, file_name), 0)\n",
    "img = (255 - img_orig.copy())/255\n",
    "img = img[:, :-100]"
   ]
  },
  {
   "cell_type": "code",
   "execution_count": 5,
   "metadata": {},
   "outputs": [
    {
     "data": {
      "text/plain": [
       "<matplotlib.image.AxesImage at 0x7fc79bb240f0>"
      ]
     },
     "execution_count": 5,
     "metadata": {},
     "output_type": "execute_result"
    },
    {
     "data": {
      "image/png": "[encoded data removed]",
      "text/plain": [
       "<Figure size 432x288 with 1 Axes>"
      ]
     },
     "metadata": {},
     "output_type": "display_data"
    }
   ],
   "source": [
    "plt.imshow(img,cmap='gray')"
   ]
  },
  {
   "cell_type": "code",
   "execution_count": 6,
   "metadata": {},
   "outputs": [
    {
     "data": {
      "text/plain": [
       "(3508, 2379)"
      ]
     },
     "execution_count": 6,
     "metadata": {},
     "output_type": "execute_result"
    }
   ],
   "source": [
    "img.shape"
   ]
  },
  {
   "cell_type": "code",
   "execution_count": 7,
   "metadata": {},
   "outputs": [
    {
     "data": {
      "image/png": "[encoded data removed]",
      "text/plain": [
       "<Figure size 432x288 with 1 Axes>"
      ]
     },
     "metadata": {},
     "output_type": "display_data"
    }
   ],
   "source": [
    "verbose = False\n",
    "# 3508x2379 ~ 90linesx25words ~ pixels/word = 96, pixels/line=40--> strip_height > 40 (*2 for header usually > 2 lines) (100) w_max_pool < 96 (50)\n",
    "tables_detector = TableDetector(verbose, strip_height=50, w_max_pool=75, min_col_width=250, ratio_clip_max=0.5)\n",
    "tables = tables_detector.run(img)\n",
    "tables_detector.visualize_tables(img_orig, file_name)\n",
    "#tables_detector.save_json(file_name)"
   ]
  },
  {
   "cell_type": "code",
   "execution_count": 8,
   "metadata": {},
   "outputs": [
    {
     "data": {
      "text/plain": [
       "[{'table_start': 350, 'col_positions': array([299, 599]), 'table_end': 500},\n",
       " {'table_start': 600, 'col_positions': array([ 224, 2174]), 'table_end': 750},\n",
       " {'table_start': 1100,\n",
       "  'col_positions': array([ 224,  824, 1274, 1649]),\n",
       "  'table_end': 1650},\n",
       " {'table_start': 1750,\n",
       "  'col_positions': array([ 224, 1049]),\n",
       "  'table_end': 1900},\n",
       " {'table_start': 2450,\n",
       "  'col_positions': array([ 374, 1199]),\n",
       "  'table_end': 2600},\n",
       " {'table_start': 2650,\n",
       "  'col_positions': array([ 224, 1499]),\n",
       "  'table_end': 2850},\n",
       " {'table_start': 2900,\n",
       "  'col_positions': array([ 224, 1574]),\n",
       "  'table_end': 3050}]"
      ]
     },
     "execution_count": 8,
     "metadata": {},
     "output_type": "execute_result"
    }
   ],
   "source": [
    "tables"
   ]
  },
  {
   "cell_type": "code",
   "execution_count": 22,
   "metadata": {},
   "outputs": [
    {
     "data": {
      "text/plain": [
       "0"
      ]
     },
     "execution_count": 22,
     "metadata": {},
     "output_type": "execute_result"
    }
   ],
   "source": [
    "pdf_file_name = 'Accident-Handwritten_V3.pdf'\n",
    "base_file_name = os.path.splitext(pdf_file_name)[0]\n",
    "page_num = 3\n",
    "# Convert pdf to tiff\n",
    "#cmd = 'convert -density 300 ' + pdf_file_name + '[' + str(page_num-1) + ']' + ' ' + base_file_name+'.tiff'\n",
    "cmd = 'convert -density 300 ' + pdf_file_name + ' ' + base_file_name+'.tiff'\n",
    "os.system(cmd)\n",
    "\n",
    "# Convert tiff to pdf sandwitch\n",
    "cmd = 'tesseract' + ' ' + base_file_name+'.tiff' + ' ' + base_file_name+'_pdf_sand' + ' pdf'\n",
    "os.system(cmd)\n",
    "\n",
    "# Convert pdf sandwitch to xml\n",
    "xml_file = base_file_name+'.xml'\n",
    "cmd = 'pdftohtml -c -hidden -xml' + ' ' + base_file_name+'_pdf_sand.pdf' + ' ' + xml_file\n",
    "os.system(cmd)"
   ]
  },
  {
   "cell_type": "markdown",
   "metadata": {},
   "source": [
    " http://127.0.0.1:8080/pdf2xml-viewer.html."
   ]
  },
  {
   "cell_type": "code",
   "execution_count": 15,
   "metadata": {},
   "outputs": [
    {
     "name": "stdout",
     "output_type": "stream",
     "text": [
      "Serving HTTP on 127.0.0.1 port 8080 (http://127.0.0.1:8080/) ...\n",
      "127.0.0.1 - - [06/Oct/2018 09:43:34] code 404, message File not found\n",
      "127.0.0.1 - - [06/Oct/2018 09:43:34] \"GET /pdf2xml-viewer.html HTTP/1.1\" 404 -\n",
      "127.0.0.1 - - [06/Oct/2018 09:43:35] code 404, message File not found\n",
      "127.0.0.1 - - [06/Oct/2018 09:43:35] \"GET /favicon.ico HTTP/1.1\" 404 -\n",
      "127.0.0.1 - - [06/Oct/2018 09:43:53] \"GET / HTTP/1.1\" 200 -\n",
      "127.0.0.1 - - [06/Oct/2018 09:43:54] code 404, message File not found\n",
      "127.0.0.1 - - [06/Oct/2018 09:43:54] \"GET /favicon.ico HTTP/1.1\" 404 -\n",
      "^C\n",
      "\n",
      "Keyboard interrupt received, exiting.\n"
     ]
    }
   ],
   "source": [
    "#!python3 -m http.server 8080 --bind 127.0.0.1"
   ]
  },
  {
   "cell_type": "code",
   "execution_count": 1,
   "metadata": {},
   "outputs": [
    {
     "ename": "NameError",
     "evalue": "name 'xml_file' is not defined",
     "output_type": "error",
     "traceback": [
      "\u001b[0;31m---------------------------------------------------------------------------\u001b[0m",
      "\u001b[0;31mNameError\u001b[0m                                 Traceback (most recent call last)",
      "\u001b[0;32m<ipython-input-1-3204973759eb>\u001b[0m in \u001b[0;36m<module>\u001b[0;34m()\u001b[0m\n\u001b[1;32m      3\u001b[0m \u001b[0;31m# Load the XML that was generated with pdftohtml\u001b[0m\u001b[0;34m\u001b[0m\u001b[0;34m\u001b[0m\u001b[0m\n\u001b[1;32m      4\u001b[0m \u001b[0;31m#xmltree, xmlroot = read_xml(os.path.join(dat_path, xml_file))\u001b[0m\u001b[0;34m\u001b[0m\u001b[0;34m\u001b[0m\u001b[0m\n\u001b[0;32m----> 5\u001b[0;31m \u001b[0mxmltree\u001b[0m\u001b[0;34m,\u001b[0m \u001b[0mxmlroot\u001b[0m \u001b[0;34m=\u001b[0m \u001b[0mread_xml\u001b[0m\u001b[0;34m(\u001b[0m\u001b[0mxml_file\u001b[0m\u001b[0;34m)\u001b[0m\u001b[0;34m\u001b[0m\u001b[0m\n\u001b[0m\u001b[1;32m      6\u001b[0m \u001b[0;34m\u001b[0m\u001b[0m\n\u001b[1;32m      7\u001b[0m \u001b[0;31m# parse it and generate a dict of pages\u001b[0m\u001b[0;34m\u001b[0m\u001b[0;34m\u001b[0m\u001b[0m\n",
      "\u001b[0;31mNameError\u001b[0m: name 'xml_file' is not defined"
     ]
    }
   ],
   "source": [
    "from pdftabextract.common import read_xml, parse_pages\n",
    "\n",
    "# Load the XML that was generated with pdftohtml\n",
    "#xmltree, xmlroot = read_xml(os.path.join(dat_path, xml_file))\n",
    "xmltree, xmlroot = read_xml(xml_file)\n",
    "\n",
    "# parse it and generate a dict of pages\n",
    "pages = parse_pages(xmlroot)\n",
    "\n",
    "p = pages[page_num]\n",
    "\n",
    "#print(p['texts'][:3])\n"
   ]
  },
  {
   "cell_type": "code",
   "execution_count": null,
   "metadata": {},
   "outputs": [],
   "source": [
    "table = tables[3]\n",
    "page_colpos = table['col_positions']"
   ]
  },
  {
   "cell_type": "code",
   "execution_count": null,
   "metadata": {},
   "outputs": [],
   "source": [
    "# right border of the last column\n",
    "last_rightborder = page_colpos[-1]\n",
    "\n",
    "# calculate median text box height\n",
    "median_text_height = np.median([t['height'] for t in p['texts']])\n",
    "\n",
    "# get all texts in all the with a \"usual\" textbox height\n",
    "# we will only use these text boxes in order to determine the line positions\n",
    "\n",
    "text_height_deviation_thresh = median_text_height / 2\n",
    "texts_cols = [t for t in p['texts']\n",
    "                  if t['right'] <= last_rightborder\n",
    "                     and abs(t['height'] - median_text_height) <= text_height_deviation_thresh]"
   ]
  },
  {
   "cell_type": "code",
   "execution_count": null,
   "metadata": {},
   "outputs": [],
   "source": [
    "# Next we get the text boxes' top and bottom border positions, cluster them, and calculate the cluster centers.\n",
    "from pdftabextract.clustering import zip_clusters_and_values\n",
    "from pdftabextract.textboxes import border_positions_from_texts, split_texts_by_positions, join_texts\n",
    "from pdftabextract.common import all_a_in_b, DIRECTION_VERTICAL\n",
    "\n",
    "# get all textboxes' top and bottom border positions\n",
    "borders_y = border_positions_from_texts(texts_cols, DIRECTION_VERTICAL)\n",
    "\n",
    "# break into clusters using half of the median text height as break distance\n",
    "clusters_y = find_clusters_1d_break_dist(borders_y, dist_thresh=median_text_height/2)\n",
    "clusters_w_vals = zip_clusters_and_values(clusters_y, borders_y)\n",
    "\n",
    "# for each cluster, calculate the median as center\n",
    "pos_y = calc_cluster_centers_1d(clusters_w_vals)\n",
    "pos_y.append(p['height'])\n",
    "\n",
    "print('number of line positions:', len(pos_y))"
   ]
  },
  {
   "cell_type": "code",
   "execution_count": null,
   "metadata": {},
   "outputs": [],
   "source": [
    "top_y = table['table_start']"
   ]
  },
  {
   "cell_type": "code",
   "execution_count": null,
   "metadata": {},
   "outputs": [],
   "source": [
    "bottom_y = table['table_end']"
   ]
  },
  {
   "cell_type": "code",
   "execution_count": null,
   "metadata": {},
   "outputs": [],
   "source": [
    "# finally filter the line positions so that only the lines between the table top and bottom are left\n",
    "page_rowpos = [y for y in pos_y if top_y <= y <= bottom_y]\n",
    "\n",
    "print(\"> page %d: %d lines between [%f, %f]\" % (p_num, len(page_rowpos), top_y, bottom_y))"
   ]
  },
  {
   "cell_type": "code",
   "execution_count": 2,
   "metadata": {},
   "outputs": [],
   "source": [
    "## 7. Create a grid of columns and lines\n",
    "\n",
    "# From the column and row positions that we detected, we can now generate a \"page grid\" which should resemble the table layout as close as possible. We then save the grid information as JSON file so that we can display it in pdf2xml-viewer."
   ]
  },
  {
   "cell_type": "code",
   "execution_count": null,
   "metadata": {},
   "outputs": [],
   "source": [
    "from pdftabextract.extract import make_grid_from_positions\n",
    "\n",
    "grid = make_grid_from_positions(page_colpos, page_rowpos)\n",
    "n_rows = len(grid)\n",
    "n_cols = len(grid[0])\n",
    "print(\"> page %d: grid with %d rows, %d columns\" % (p_num, n_rows, n_cols))\n"
   ]
  },
  {
   "cell_type": "code",
   "execution_count": null,
   "metadata": {},
   "outputs": [],
   "source": [
    "# the page grid is a 2D matrix that contains the rectangular table cells\n",
    "# this is the top left table cell:\n",
    "grid[0][0]"
   ]
  },
  {
   "cell_type": "code",
   "execution_count": null,
   "metadata": {},
   "outputs": [],
   "source": [
    "## 8. Match the text boxes into the grid and hence extract the tabular data in order to export it as Excel and CSV file\n",
    "\n",
    "# We can use `fit_texts_into_grid` to fit the text boxes into the grid and then transform it to a [pandas](http://pandas.pydata.org/) *DataFrame*."
   ]
  },
  {
   "cell_type": "code",
   "execution_count": null,
   "metadata": {},
   "outputs": [],
   "source": [
    "from pdftabextract.extract import fit_texts_into_grid, datatable_to_dataframe\n",
    "\n",
    "datatable = fit_texts_into_grid(p['texts'], grid)\n",
    "    \n",
    "df = datatable_to_dataframe(datatable)\n",
    "\n",
    "df.head(n=30)"
   ]
  },
  {
   "cell_type": "code",
   "execution_count": null,
   "metadata": {},
   "outputs": [],
   "source": [
    "df.to_json(base_file_name+'.json')"
   ]
  }
 ],
 "metadata": {
  "kernelspec": {
   "display_name": "Python 3",
   "language": "python",
   "name": "python3"
  },
  "language_info": {
   "codemirror_mode": {
    "name": "ipython",
    "version": 3
   },
   "file_extension": ".py",
   "mimetype": "text/x-python",
   "name": "python",
   "nbconvert_exporter": "python",
   "pygments_lexer": "ipython3",
   "version": "3.6.5"
  }
 },
 "nbformat": 4,
 "nbformat_minor": 2
}
